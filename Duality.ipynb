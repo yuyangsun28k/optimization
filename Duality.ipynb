{
 "cells": [
  {
   "cell_type": "markdown",
   "id": "72b57a83-806c-48f8-9baf-ff6873de742d",
   "metadata": {
    "tags": []
   },
   "source": [
    "# Duality\n",
    "\n",
    "## When do we choose dual problem and what are the advantages in optimization.\n",
    "\n",
    "In mathematics, if there exists a standard primal form with an objective function, constraints and decision variables, then we can have a dual form based on the information of primal form. The dual form has an inverse objective from the original primal with each variable in the primal becomes a constraint in the dual, and each constraint in the primal becomes a variable in the dual. Below is the basic structures of a primal-dual pair.\n",
    "\n",
    "Primal Problem\n",
    "$$\n",
    "\\begin{array}{rc}\n",
    "\\text{maximize:} & \\mathbf{c}^T \\mathbf{x} \\\\\n",
    "\\text{subject to:} & A \\mathbf{x} \\leq \\mathbf{b} \\\\\n",
    "& \\mathbf{x} \\geq 0\n",
    "\\end{array}\n",
    "$$\n",
    "\n",
    "Dual Problem\n",
    "$$\n",
    "\\begin{array}{rc}\n",
    "\\text{minimize:} & \\mathbf{b}^T \\mathbf{y} \\\\\n",
    "\\text{subject to:} & A^T \\mathbf{y} \\geq \\mathbf{c} \\\\\n",
    "& \\mathbf{y} \\geq 0\n",
    "\\end{array}\n",
    "$$\n",
    "\n",
    "$A$ is an $m \\times n$ matrix, $\\mathbf{b} \\in \\mathbb{R}^m$ and $\\mathbf{c} \\in \\mathbb{R}^n$\n",
    "\n",
    "Then why should we form primal-dual pairs and what are the advantages? We are going to talk about three advantages of duality with simple examples illustrated.\n",
    "\n",
    "### Duality helps to avoid initialization.\n",
    "\n",
    "While for questions related to infeasiblity, sometimes adding a dual to the primal problem can easily solve it. If we don't build a primal-dual pair and insist on solving the problem with the original form, we have to use initialization. Initialization will have two phases and there will be lots of calculations. To solve such problems efficiently, we can consider adding a dual to the primal problem.\n",
    "\n",
    "Let's say we have a matrix."
   ]
  },
  {
   "cell_type": "markdown",
   "id": "5e40ce55-1d11-46f2-a11b-4dde95ae7ca6",
   "metadata": {},
   "source": [
    "$$\n",
    "\\mathbf{A} = \\begin{bmatrix} 4 & 4 \\\\ 2 & 1 \\\\ 3 & 2 \\\\\\end{bmatrix}\n",
    "\\hspace{1in}\n",
    "\\mathbf{b} = \\begin{bmatrix} 12 \\\\ -3 \\\\ 4 \\end{bmatrix}\n",
    "\\hspace{1in}\n",
    "\\mathbf{c} = \\begin{bmatrix} 2 \\\\ 3 \\end{bmatrix}\n",
    "$$"
   ]
  },
  {
   "cell_type": "code",
   "execution_count": 2,
   "id": "38b26b99-8364-4944-80ae-fa50557e2d31",
   "metadata": {},
   "outputs": [],
   "source": [
    "import numpy as np\n",
    "import scipy.linalg as la\n",
    "from scipy.optimize import linprog"
   ]
  },
  {
   "cell_type": "code",
   "execution_count": 3,
   "id": "2aa34d4e-4bfe-4933-b75d-102ed3002764",
   "metadata": {},
   "outputs": [],
   "source": [
    "def tableau(c,A,b):\n",
    "    m,n = A.shape\n",
    "    I = np.eye(m)\n",
    "    T = np.vstack([ np.hstack([A,I,b.reshape((m,1))]) , np.hstack([c,np.zeros(m+1)]) ])\n",
    "    return T\n",
    "\n",
    "def pivot(T,k,l):\n",
    "    E = np.eye(T.shape[0])\n",
    "    E[:,l] = -T[:,k]/T[l,k]\n",
    "    E[l,l] = 1/T[l,k]\n",
    "    return E@T"
   ]
  },
  {
   "cell_type": "code",
   "execution_count": 4,
   "id": "7db565ea-68ac-4012-9987-e037c7fd4ca4",
   "metadata": {},
   "outputs": [
    {
     "name": "stdout",
     "output_type": "stream",
     "text": [
      "[[ 4.  4.  1.  0.  0. 12.]\n",
      " [ 2.  1.  0.  1.  0. -3.]\n",
      " [ 3.  2.  0.  0.  1.  4.]\n",
      " [ 2.  3.  0.  0.  0.  0.]]\n"
     ]
    }
   ],
   "source": [
    "A = np.array([[4.,4.],[2.,1.],[3.,2.]])\n",
    "m,n = A.shape\n",
    "I = np.eye(m)\n",
    "c = np.array([2.,3.])\n",
    "b = np.array([12.,-3.,4.])\n",
    "T = np.vstack([np.hstack([A,I,b.reshape((m,1))]) , np.hstack([c,np.zeros(m+1)]) ])\n",
    "print(T)"
   ]
  },
  {
   "cell_type": "markdown",
   "id": "47e89d52-9d8e-4ef3-b01e-f907a6390a66",
   "metadata": {},
   "source": [
    "The matrix shown is not good because we can see a negative in the constraints. When we add slack variables, it will required us to treat this problem as an initialization first by adding a scalar to the objective function. With duality, we can deal with such situation in an efficient way."
   ]
  },
  {
   "cell_type": "code",
   "execution_count": 5,
   "id": "766b60f4-48d2-4b25-88f6-dc89b382a631",
   "metadata": {},
   "outputs": [
    {
     "name": "stdout",
     "output_type": "stream",
     "text": [
      "[[ 4.  2.  3.  1.  0.  2.]\n",
      " [ 4.  1.  2.  0.  1.  3.]\n",
      " [12. -3.  4.  0.  0.  0.]]\n"
     ]
    }
   ],
   "source": [
    "A = np.array([[4.,2.,3.],[4.,1.,2.]])\n",
    "m,n = A.shape\n",
    "I = np.eye(m)\n",
    "b = np.array([2.,3.])\n",
    "c = np.array([12.,-3.,4.])\n",
    "T = np.vstack([np.hstack([A,I,b.reshape((m,1))]) , np.hstack([c,np.zeros(m+1)]) ])\n",
    "print(T)"
   ]
  },
  {
   "cell_type": "markdown",
   "id": "2c435e9b-d2ef-48ac-8cc4-9d7a4eb026b1",
   "metadata": {},
   "source": [
    "When we transfer the original infeasible primal problem to dual problem, we successfully elliminate the negative constraints. Thus we can use simplex method to solve the above matrix and get the solution. After solving the dual, substitute the values of slack variable into the primal and get the final answer.\n",
    "\n",
    "Now considering multiple-constraints primal problem, it will be super difficult to solve if many infeasible constraints are shown in the primal problem. We don't need to do initalization for the primal as it will be super time consuming. Instead, we can simply build a dual problem based on the primal and calculate priaml-dual pair to get the solution efficiently. If all dual constraints are feasible, we only need to perforrm simplex method to the dual."
   ]
  },
  {
   "cell_type": "markdown",
   "id": "1eb32c8e-e7b1-48a1-9512-71f24a7fd56e",
   "metadata": {},
   "source": [
    "### Duality introduces shadow price for primal constraints.\n",
    "While in reality, we encounter many profit maximization problem. If we aim to maximize the profits of many resource constraints $i$, then it will be useful to build a dual system. The $y_i$ of the corresponding y value helps to observe and adjust maximum profits easily because when $y_i$ increases, the corresponding $i$ product increases its profits. If we would like to add additional units for the resources, then we only need to calculate the dual prices."
   ]
  },
  {
   "cell_type": "markdown",
   "id": "f4d72328-bd91-44bf-9512-894fc9fe614d",
   "metadata": {},
   "source": [
    "For example, a car-made company offers two types of cars A and B, the goal is to maximize the profits. Metal resources and engine assembly are required for the manufacture of a car. We restricted the total amount of cars to 50 and the profits of making A and B are 3 and 2 respectively. The cost of metal resources per unit is 4 and the cost of engine assembly is 5 and the restriction of cost is 100. Now we can build the primal problem.\n",
    "\n",
    "In symbols, we aim to\n",
    "$$\n",
    "\\begin{array}{rc}\n",
    "\\text{maximize:} & \\mathbf{3A} + \\mathbf{2B} \\\\\n",
    "\\text{subject to:} &  \\mathbf{4 metal} + \\mathbf{3 engine} \\leq \\mathbf{100} \\\\ \n",
    "& \\mathbf{ A} + \\mathbf{ B} \\leq \\mathbf{50} \\\\\n",
    "& \\mathbf{A,B,metal,engine} \\geq \\mathbf{0}\n",
    "\\end{array}\n",
    "$$\n"
   ]
  },
  {
   "cell_type": "code",
   "execution_count": 6,
   "id": "ed055036-2fcc-4ee1-ad8f-afeb01f6c3af",
   "metadata": {},
   "outputs": [
    {
     "name": "stdout",
     "output_type": "stream",
     "text": [
      "[[  4.   3.   1.   0. 100.]\n",
      " [  1.   1.   0.   1.  50.]\n",
      " [  3.   2.   0.   0.   0.]]\n"
     ]
    }
   ],
   "source": [
    "A = np.array([[4.,3.],[1.,1.]])\n",
    "m,n = A.shape\n",
    "I = np.eye(m)\n",
    "b = np.array([100.,50.])\n",
    "c = np.array([3.,2.])\n",
    "T = np.vstack([np.hstack([A,I,b.reshape((m,1))]) , np.hstack([c,np.zeros(m+1)]) ])\n",
    "print(T)"
   ]
  },
  {
   "cell_type": "markdown",
   "id": "f8a50b5e-619e-4f17-8ad8-18879297de4d",
   "metadata": {},
   "source": [
    "From the above equations we can only know the profits we are going to make without looking at the marginal costs of products. In reality, we often do not stick with certain resources and fixed types of products. While building a dual problem helps to solve this problem. \n"
   ]
  },
  {
   "cell_type": "code",
   "execution_count": 7,
   "id": "f843aef3-5907-4dbb-9009-fd271a38fdce",
   "metadata": {},
   "outputs": [
    {
     "name": "stdout",
     "output_type": "stream",
     "text": [
      "[[  -4.   -1.    1.    0.   -3.]\n",
      " [  -3.   -1.    0.    1.   -2.]\n",
      " [-100.  -50.    0.    0.    0.]]\n"
     ]
    }
   ],
   "source": [
    "Tdual = tableau(-b,-A.T,-c)\n",
    "print(Tdual)"
   ]
  },
  {
   "cell_type": "markdown",
   "id": "165e5ecf-41e5-4dd1-8e99-8bbe6a5569b4",
   "metadata": {},
   "source": [
    "The signs are negative now due to the change of maximum to minimum while switching primal to dual. Regardless the sign of this particular matrix, if we don't perform in this way, the constraints of the dual will always be feasible. The reason is because the costs cannot be negative for purchasing products. In conclusion, building up such primal-dual system helps to track multiple features for maximum profits problems in reality."
   ]
  },
  {
   "cell_type": "markdown",
   "id": "9484173d-f26c-4a3d-84e3-8a895c24d8c4",
   "metadata": {},
   "source": [
    "### Duality helps sensitive analysis and models.\n",
    "For primal problems, changing the constraints for the objective function or adding new constraints could make the original optimal primal solution infeasible. If we build up a primal-dual system, adding a new constraint only changes the objective function by adding one more variable. According to the strong duality theorm, suppose the original primal problem has a feasible solution, then the corresponding dual problem is feasible as well."
   ]
  },
  {
   "cell_type": "markdown",
   "id": "8b1260ee-1f6a-418c-8d8c-db13eb1013d2",
   "metadata": {},
   "source": [
    "Let's perform this situation using a similar matrix as the first point."
   ]
  },
  {
   "cell_type": "code",
   "execution_count": 1,
   "id": "f465b1fa-eba6-41cc-bd3e-370cacac6527",
   "metadata": {},
   "outputs": [
    {
     "name": "stdout",
     "output_type": "stream",
     "text": [
      "[[ 4.  4.  1.  0.  0. 12.]\n",
      " [ 2.  1.  0.  1.  0.  3.]\n",
      " [ 3.  2.  0.  0.  1.  4.]\n",
      " [ 2.  3.  0.  0.  0.  0.]]\n"
     ]
    },
    {
     "data": {
      "text/plain": [
       "'Optimization terminated successfully. (HiGHS Status 7: Optimal)'"
      ]
     },
     "execution_count": 8,
     "metadata": {},
     "output_type": "execute_result"
    }
   ],
   "source": [
    "A = np.array([[4.,4.],[2.,1.],[3.,2.]])\n",
    "m,n = A.shape\n",
    "I = np.eye(m)\n",
    "c = np.array([2.,3.])\n",
    "b = np.array([12.,3.,4.])\n",
    "T = np.vstack([np.hstack([A,I,b.reshape((m,1))]) , np.hstack([c,np.zeros(m+1)]) ])\n",
    "print(T)\n",
    "\n",
    "sol = linprog(-c,A,b)\n",
    "sol.x\n",
    "sol.message"
   ]
  },
  {
   "cell_type": "code",
   "execution_count": null,
   "id": "d16042cd-c37a-45f1-894f-1c7436bff803",
   "metadata": {},
   "outputs": [
    {
     "name": "stdout",
     "output_type": "stream",
     "text": [
      "[[ 4.  4.  1.  0.  0.  0. 12.]\n",
      " [ 2.  1.  0.  1.  0.  0.  3.]\n",
      " [ 3.  2.  0.  0.  1.  0.  4.]\n",
      " [ 2.  2.  0.  0.  0.  1. -1.]\n",
      " [ 2.  3.  0.  0.  0.  0.  0.]]\n"
     ]
    },
    {
     "data": {
      "text/plain": [
       "\"The problem is infeasible. (HiGHS Status 8: model_status is Infeasible; primal_status is b'At lower/fixed bound')\""
      ]
     },
     "execution_count": 9,
     "metadata": {},
     "output_type": "execute_result"
    }
   ],
   "source": [
    "A = np.array([[4.,4.],[2.,1.],[3.,2.],[2.,2.]])\n",
    "m,n = A.shape\n",
    "I = np.eye(m)\n",
    "c = np.array([2.,3.])\n",
    "b = np.array([12.,3.,4.,-1.])\n",
    "T = np.vstack([np.hstack([A,I,b.reshape((m,1))]) , np.hstack([c,np.zeros(m+1)]) ])\n",
    "print(T)\n",
    "\n",
    "sol = linprog(-c,A,b)\n",
    "sol.x\n",
    "sol.message"
   ]
  },
  {
   "cell_type": "markdown",
   "id": "7a433d05-c93a-4e4e-9a9e-cb462b33a80c",
   "metadata": {},
   "source": [
    "The original primial is feasible but it shows infeasible when we add on more constraint. Now we switch primal to dual and thus it will lead us a feasible solution. "
   ]
  },
  {
   "cell_type": "code",
   "execution_count": 11,
   "id": "e34afb04-8842-428c-970f-6369792b5245",
   "metadata": {},
   "outputs": [
    {
     "data": {
      "text/plain": [
       "'Optimization terminated successfully. (HiGHS Status 7: Optimal)'"
      ]
     },
     "execution_count": 11,
     "metadata": {},
     "output_type": "execute_result"
    }
   ],
   "source": [
    "Tdual = tableau(-b,-A.T,-c)\n",
    "sol = linprog(c,-A,-b)\n",
    "sol.x\n",
    "sol.message"
   ]
  },
  {
   "cell_type": "markdown",
   "id": "0c01c030-2f25-4ea0-a167-9d16c45804cc",
   "metadata": {},
   "source": [
    "Building dual problem for sensitive analysis often solve problems for infeasible primal like the above example illustrated."
   ]
  },
  {
   "cell_type": "markdown",
   "id": "f09d558d-d6db-4853-82fb-6432752bcd3d",
   "metadata": {},
   "source": [
    "### Summary\n",
    "The above three advantages of duality can be applied to many linear programming problems, especially when primal problems encounter infeasibility or there are less variable numbers but multiple constraints. The duality brings efficiency and convinences when we are working on those linear programming problems. There are also many advantages of duality in transportation optimization, matrix game and network problems as well. Although duality is not always the first-choice method for solving linear programming problems, its functionality is still board in these fields."
   ]
  },
  {
   "cell_type": "markdown",
   "id": "8fc89cf6-b055-426e-94df-312564e89edd",
   "metadata": {},
   "source": [
    "## References\n",
    "\n",
    "Agarwal, L. (2022, February 22). Duality in linear programming, characteristics and advantages of duality. Prinsli.com. Retrieved December 9, 2022, from https://prinsli.com/duality-in-linear-programming/ \n",
    "\n",
    "Wikimedia Foundation. (2022, August 13). Duality. Wikipedia. Retrieved December 9, 2022, from https://en.wikipedia.org/wiki/Duality "
   ]
  }
 ],
 "metadata": {
  "kernelspec": {
   "display_name": "Python 3 (ipykernel)",
   "language": "python",
   "name": "python3"
  },
  "language_info": {
   "codemirror_mode": {
    "name": "ipython",
    "version": 3
   },
   "file_extension": ".py",
   "mimetype": "text/x-python",
   "name": "python",
   "nbconvert_exporter": "python",
   "pygments_lexer": "ipython3",
   "version": "3.10.6"
  }
 },
 "nbformat": 4,
 "nbformat_minor": 5
}
