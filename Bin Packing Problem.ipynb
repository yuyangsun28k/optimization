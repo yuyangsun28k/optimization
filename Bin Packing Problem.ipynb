{
 "cells": [
  {
   "cell_type": "markdown",
   "id": "5f32f2b7-51b5-438f-89f2-7f409cdf6f4a",
   "metadata": {},
   "source": [
    "# Bin Packing Problem\n",
    "\n",
    "## Abstract\n",
    "\n",
    "This artifact aims to introduce the bin packing problem and solve problems using two methods: standard first-fit greedy algorithm and a solver called pywraplp('SCIP')in the package of linear solvers in google or-tools. Then, the results will be analyzed and compared for the two methods, and a conclusion will be made. The purposes of this artifact are to have a better understanding of bin packing problem and check the solvers' availbility in problems with various scales.\n",
    "\n",
    "keyword: 'bin-packing', 'first-fit greedy algorithm', 'pywraplp('SCIP)'\n",
    "\n",
    "## Introduction\n",
    "If we imagine a set of items with finite capacities and various sizes of containers(bins). The goal is to pack as many items as possible into limited bins, and we try to minimize the number of bins. Recall the concepts in optimization, we can build a connection between bin packing problem and optimization. The number of bins is not fixed, and we have to ensure there are enough bins to contain all the items. The bin packing problem can be solved by algorithms either online or offline heuristic. There are several python tools available online to solve bin packing problems efficiently (Bin Packing problem 2022)."
   ]
  },
  {
   "cell_type": "markdown",
   "id": "424da2ca-3f44-4340-af74-b8ccbb2f0ef2",
   "metadata": {},
   "source": [
    "## First-fit greedy algorithm\n",
    "\n",
    "First-fit greedy algorithm is an online algorithm for bin-packing problems. A list of items with different weights will be the input. The goal is to pack all the items to bins and minimize the used bins. Bins are the containers where the items will be placed. The capacity of each bin is the same. The output is a partition of the items into bins without exceeding the maximum bin-capacity, such that the sum of sizes of items in each bin is at most the capacity."
   ]
  },
  {
   "cell_type": "markdown",
   "id": "dfd776fa-9e80-4776-9a58-66cb5c7c1701",
   "metadata": {},
   "source": [
    "### Case Study\n",
    "\n",
    "Recall what we have done in the lectures for the first-greedy algorithm, the algorithm places each item in the first bin into which it fits. We create a simple problem with 11 items and visualize the items in a bar chart.\n",
    "\n",
    "#### Create items and visualization"
   ]
  },
  {
   "cell_type": "code",
   "execution_count": 86,
   "id": "4371ab54-0593-4241-bf2f-8f8b98592cb8",
   "metadata": {},
   "outputs": [],
   "source": [
    "weights =[48, 30, 19, 36, 36, 27, 42, 42, 36, 24, 30]\n",
    "n = 11\n",
    "index = list(range(n))"
   ]
  },
  {
   "cell_type": "code",
   "execution_count": 87,
   "id": "1a1415bf-e4f2-4954-9f46-db547366c6e6",
   "metadata": {},
   "outputs": [
    {
     "data": {
      "image/png": "[encoded data removed]",
      "text/plain": [
       "<Figure size 1100x200 with 1 Axes>"
      ]
     },
     "metadata": {},
     "output_type": "display_data"
    }
   ],
   "source": [
    "import matplotlib.pyplot as plt\n",
    "plt.figure(figsize=(11,2))\n",
    "plt.bar(range(n),weights), plt.grid(True), plt.savefig('fig1.png',dpi=300)\n",
    "plt.show()"
   ]
  },
  {
   "cell_type": "markdown",
   "id": "d08a5e9b-7f98-4da3-bcca-daaabd6498ae",
   "metadata": {},
   "source": [
    "As can be seen, the items are various in weights. For a standard bin packing problem, we are going to pack each item to the bins. Note that the weights of the items cannot be split. For example, if the weight of item '2' is 19, we cannot split it into a '10' and a'9', which means that the item should be placed in the bin in one complete piece."
   ]
  },
  {
   "cell_type": "markdown",
   "id": "a79bb7e9-f8fc-4952-bb92-51ee62e97f12",
   "metadata": {},
   "source": [
    "The first-fit algorithm takes the items and their weights as the input. We have put all the items in a list called 'weights'. Now, we have to set the constraints to make the algorithm functional."
   ]
  },
  {
   "cell_type": "markdown",
   "id": "8ed014b6-33be-4f7a-87be-0c3ddaf07ddc",
   "metadata": {},
   "source": [
    "#### Create bins and bin capacity"
   ]
  },
  {
   "cell_type": "code",
   "execution_count": 88,
   "id": "c897020a-bc22-4463-84f5-2506775ec243",
   "metadata": {},
   "outputs": [],
   "source": [
    "bins = [[0]]\n",
    "B = 100"
   ]
  },
  {
   "cell_type": "markdown",
   "id": "c7b2097c-cb75-4bf6-8486-5749c65fed6d",
   "metadata": {},
   "source": [
    "We create bins to contain items. Initially, the bin should be empty because no item is inside. B is the maximum capacity of each bin. In this case, we set the bin capacity equals to 100."
   ]
  },
  {
   "cell_type": "markdown",
   "id": "0810a17c-645c-4a68-bc40-2102f3c26216",
   "metadata": {},
   "source": [
    "#### Algorithm Design"
   ]
  },
  {
   "cell_type": "code",
   "execution_count": 89,
   "id": "f1d8eaf0-766d-49ec-ae5b-18fcc95d7707",
   "metadata": {},
   "outputs": [],
   "source": [
    "weights= np.array(weights)\n",
    "for i in range(1,n):\n",
    "        binned = False\n",
    "        for j in range(len(bins)):\n",
    "            if weights[i] <= (B - sum(weights[bins[j]])):\n",
    "                bins[j].append(i)\n",
    "                binned = True\n",
    "                break\n",
    "        if not binned:\n",
    "            bins.append([i])"
   ]
  },
  {
   "cell_type": "markdown",
   "id": "45cc4b95-30b2-42d2-b5cc-6b1673227163",
   "metadata": {},
   "source": [
    "Convert the item list to an array first, then we will pack the items in the bins. Recall the first-fit algorithm, we create a for-loop takes each item in the weights array where n is the length of the array. In the for-loop, if the bin is packed and equals to false, then we do not have space to pack items; If it is not equals to false, then we pack items to the bin. In such case, if the weight of item i is less than the current capacity of that bin j, we pack the item i into the bin j and makes the bin equals to true, which means the bin j can still pack items. Otherwise, if the bin j fulls, it returns false. Also, we have to add new bins if the status turn to not binned."
   ]
  },
  {
   "cell_type": "markdown",
   "id": "0acedf9e-0103-4015-ab10-eab895db3246",
   "metadata": {},
   "source": [
    "#### Output"
   ]
  },
  {
   "cell_type": "code",
   "execution_count": 90,
   "id": "ed14bf84-8b3d-4026-b7c4-09f00ff1393b",
   "metadata": {},
   "outputs": [
    {
     "data": {
      "text/plain": [
       "[[0, 1, 2], [3, 4, 5], [6, 7], [8, 9, 10]]"
      ]
     },
     "execution_count": 90,
     "metadata": {},
     "output_type": "execute_result"
    }
   ],
   "source": [
    "bins"
   ]
  },
  {
   "cell_type": "markdown",
   "id": "02bb036e-e9bd-4ece-8edd-80aa9425aad0",
   "metadata": {},
   "source": [
    "The output shows the number of bins should be 4 in minimum if we would like to pack all 11 items. For example, for the first bin, we can see that the first three items are packed in that bin. The total weight for the three items equals to 97, which is less than the maximum capacity of the bin."
   ]
  },
  {
   "cell_type": "markdown",
   "id": "401113c9-405b-4254-b21b-6d8a4a82d37c",
   "metadata": {},
   "source": [
    "#### Convert piecewise codes into a function"
   ]
  },
  {
   "cell_type": "code",
   "execution_count": 91,
   "id": "ccb6fc6e-c956-4972-83ff-78578ce22533",
   "metadata": {},
   "outputs": [],
   "source": [
    "def bin_ff(s,B):\n",
    "    s = np.array(s)\n",
    "    n = len(s)\n",
    "    bins = [[0]]\n",
    "    for i in range(1,n):\n",
    "        binned = False\n",
    "        for j in range(len(bins)):\n",
    "            if s[i] <= (B - sum(s[bins[j]])):\n",
    "                bins[j].append(i)\n",
    "                binned = True\n",
    "                break\n",
    "        if not binned:\n",
    "            bins.append([i])\n",
    "    return bins"
   ]
  },
  {
   "cell_type": "markdown",
   "id": "eab36851-8a07-497a-9c55-3642a0ad7a39",
   "metadata": {},
   "source": [
    "We import the function from lecture for checking purposes. The function takes an array and the fixed maximum capacity of bin to return the partition of the items into bins without exceeding the maximum bin-capacity. We want this function used for the method comparsions on other datasets in the next section."
   ]
  },
  {
   "cell_type": "markdown",
   "id": "97305671-b1e2-403b-8e1f-c985eb4927bb",
   "metadata": {
    "tags": []
   },
   "source": [
    "## Case Study from Google OR-tools\n",
    "We can apply bin packing problem to real-life scenarios or datasets with the help of google OR-tools. It provides codes for a basic bin problem if we look at ortools.linear_solver, pywraplp (https://developers.google.com/optimization/bin/bin_packing). The code is from the website and we are going to interpret the codes and see if the code can be applied to other datasets.\n",
    "\n",
    "In this section, the first experiment data is the same as the first-fit greedy algorithm. We will compare the results from two methods and see if they output the same."
   ]
  },
  {
   "cell_type": "markdown",
   "id": "7c5e0983-8266-4e5e-8084-347d590b88e3",
   "metadata": {},
   "source": [
    "### Create Data Model"
   ]
  },
  {
   "cell_type": "code",
   "execution_count": 92,
   "id": "a210aa27-8536-43a4-ada4-91af01ebd567",
   "metadata": {},
   "outputs": [
    {
     "data": {
      "text/plain": [
       "{'weights': [48, 30, 19, 36, 36, 27, 42, 42, 36, 24, 30],\n",
       " 'items': [0, 1, 2, 3, 4, 5, 6, 7, 8, 9, 10],\n",
       " 'bins': [0, 1, 2, 3, 4, 5, 6, 7, 8, 9, 10],\n",
       " 'bin_capacity': 100}"
      ]
     },
     "execution_count": 92,
     "metadata": {},
     "output_type": "execute_result"
    }
   ],
   "source": [
    "weights = [48, 30, 19, 36, 36, 27, 42, 42, 36, 24, 30]\n",
    "data = {}\n",
    "data['weights'] = weights\n",
    "data['items'] = list(range(len(weights)))\n",
    "data['bins'] = data['items']\n",
    "data['bin_capacity'] = 100\n",
    "data"
   ]
  },
  {
   "cell_type": "markdown",
   "id": "a546accd-3ec9-48a4-b0ec-fbf31e80cbd5",
   "metadata": {},
   "source": [
    "Firstly, we define a dataset for bin packing. It contains data information related the weights of a list of items, a list of bins, and the capacity of bin. Notice that the capacity for all bins in this problem are the same and we are not sure that how many bins do we need to contain all the items. The data here helps us to initiate the problem. For this particular problem, the maximum capacity of bins is 100. There are ten items with weights lower than the maximum capacity of bins. We cannot let the weight of one item larger than the maximum capacity of bins because we won't able to place the item in the bin."
   ]
  },
  {
   "cell_type": "markdown",
   "id": "f442534f-730d-4b7f-a260-f74b1025ebad",
   "metadata": {},
   "source": [
    "### Import Solver"
   ]
  },
  {
   "cell_type": "code",
   "execution_count": 93,
   "id": "1b0b4729-93fa-4386-9445-89a12b3e29c3",
   "metadata": {},
   "outputs": [],
   "source": [
    "from ortools.linear_solver import pywraplp\n",
    "solver = pywraplp.Solver.CreateSolver('SCIP')"
   ]
  },
  {
   "cell_type": "markdown",
   "id": "665c9ccc-493b-4856-bee0-3f8eadde5709",
   "metadata": {},
   "source": [
    "We import pywraplp from ortools.linear_solver. It is a solver for mixed integer programming problems. We use 'SCIP' for this particular bin packing problem. The solver helps to slove a mixed interger programming problem and we are going to define the variables, constraints and objective function before using it."
   ]
  },
  {
   "cell_type": "markdown",
   "id": "92a5b112-26a5-4996-b383-b5989326907d",
   "metadata": {},
   "source": [
    "### Define decision Variables"
   ]
  },
  {
   "cell_type": "code",
   "execution_count": 94,
   "id": "30b17b35-c365-4ce2-a135-743253c947c8",
   "metadata": {},
   "outputs": [],
   "source": [
    "# x[i, j] = 1 if item i is packed in bin j.\n",
    "x = {}\n",
    "\n",
    "for i in data['items']:\n",
    "    for j in data['bins']:\n",
    "        x[(i, j)] = solver.IntVar(0, 1, 'x_%i_%i' % (i, j))"
   ]
  },
  {
   "cell_type": "markdown",
   "id": "a6ba598d-b5d8-42b8-a3d4-a764b3939636",
   "metadata": {},
   "source": [
    "The decision variable x is in a double for-loop. The for-loop takes the item data and generate another for-loop which takes the bin data and results an array of variables. The value i will be the ith element in the item list and j will be the jth element in the bin list. The %i is used to perform concatenation of the elements in the loop, and the loop produces either 1 or 0. If it produces 1, then we can know item i is placed in bin j, and 0 otherwise."
   ]
  },
  {
   "cell_type": "code",
   "execution_count": 95,
   "id": "d91691cf-3b9b-4898-9373-0d6cd7efae76",
   "metadata": {},
   "outputs": [],
   "source": [
    "# y[j] = 1 if bin j is used.\n",
    "y = {}\n",
    "for j in data['bins']:\n",
    "    y[j] = solver.IntVar(0, 1, 'y[%i]' % j)"
   ]
  },
  {
   "cell_type": "markdown",
   "id": "cc498f74-a1de-4fe4-8625-18af8830321e",
   "metadata": {},
   "source": [
    "We also need to define if the bin is used by making another function named y which takes the bin data and it produces either 1 or 0. If it produces 1, we can tell the bin is being used and item/items is/are in the bin, and 0 otherwise."
   ]
  },
  {
   "cell_type": "markdown",
   "id": "e8f209ed-3645-4d02-9635-7099b1908741",
   "metadata": {},
   "source": [
    "### Define Constraints"
   ]
  },
  {
   "cell_type": "code",
   "execution_count": 96,
   "id": "b4c7f6bd-fa55-4ba3-97fd-42091161021e",
   "metadata": {},
   "outputs": [],
   "source": [
    "for i in data['items']:\n",
    "    solver.Add(sum(x[i, j] for j in data['bins']) == 1)\n"
   ]
  },
  {
   "cell_type": "markdown",
   "id": "ba3fd07f-2668-49ae-a683-7a56198c8282",
   "metadata": {},
   "source": [
    "Constraints are also defined in form of loops. We need to make sure that each item is placed exactly in one bin. Thus we set the sum of decision variable x(takes item i and bin j) in bin j equals to 1 if the item i is placed into the bin j as our first constraint. "
   ]
  },
  {
   "cell_type": "code",
   "execution_count": 97,
   "id": "78be3abe-0031-4b48-9ca5-3909b3172d28",
   "metadata": {},
   "outputs": [],
   "source": [
    "for j in data['bins']:\n",
    "    solver.Add(\n",
    "        sum(x[(i, j)] * data['weights'][i] for i in data['items']) <= y[j] *\n",
    "        data['bin_capacity'])"
   ]
  },
  {
   "cell_type": "markdown",
   "id": "c1c23317-3d7e-47b8-8052-247a541f1eff",
   "metadata": {},
   "source": [
    "Another constraint is the item weights in one bin do not exceed the bin capacity. We takes the bin data, and add the bin if the total weights of items in the bin is less or equals to the maximum capacity of the bin. Notice that we use an inequality sign to denote this situation and the weights of total items should be less or equal to the maximum bin capacity."
   ]
  },
  {
   "cell_type": "markdown",
   "id": "63a8a78b-4dd7-4e06-a8d3-b9f10b0ac600",
   "metadata": {},
   "source": [
    "### Define Objective Function"
   ]
  },
  {
   "cell_type": "code",
   "execution_count": 98,
   "id": "da810a6f-294b-4e8a-afc6-55791cdcc352",
   "metadata": {},
   "outputs": [],
   "source": [
    "solver.Minimize(solver.Sum([y[j] for j in data['bins']]))"
   ]
  },
  {
   "cell_type": "markdown",
   "id": "eba18c8b-62a3-4152-b9bd-2540248fe519",
   "metadata": {},
   "source": [
    "Then we create an objective function using solver.Minimize. The objective is to minimize the total number of bins we used for packing all the items in this problem."
   ]
  },
  {
   "cell_type": "markdown",
   "id": "0a962d48-11f6-43cf-b8dd-d12020f463f5",
   "metadata": {},
   "source": [
    "### Setting Up the Solver and Showing Results"
   ]
  },
  {
   "cell_type": "code",
   "execution_count": 99,
   "id": "0c21cd0d-ff9c-48af-8540-511c779d218b",
   "metadata": {},
   "outputs": [
    {
     "name": "stdout",
     "output_type": "stream",
     "text": [
      "Bin number 0\n",
      "  Items packed: [0, 1, 2]\n",
      "  Total weight: 97\n",
      "\n",
      "Bin number 1\n",
      "  Items packed: [3, 4, 5]\n",
      "  Total weight: 99\n",
      "\n",
      "Bin number 2\n",
      "  Items packed: [6, 7]\n",
      "  Total weight: 84\n",
      "\n",
      "Bin number 3\n",
      "  Items packed: [8, 9, 10]\n",
      "  Total weight: 90\n",
      "\n",
      "\n",
      "Number of bins used: 4.0\n"
     ]
    }
   ],
   "source": [
    "status = solver.Solve()\n",
    "if status == pywraplp.Solver.OPTIMAL:\n",
    "    num_bins = 0.\n",
    "        # in this for loop, if the y[j] value equals to 1, then it is considered used, then we can add\n",
    "        # items to the bin and the total number of bins will increase by 1.\n",
    "    for j in data['bins']:\n",
    "        if y[j].solution_value() == 1:\n",
    "            bin_items = []\n",
    "            bin_weight = 0\n",
    "            for i in data['items']:\n",
    "                if x[i, j].solution_value() > 0:\n",
    "                    bin_items.append(i)\n",
    "                    bin_weight += data['weights'][i]\n",
    "            if bin_weight > 0:\n",
    "                num_bins += 1\n",
    "                print('Bin number', j)\n",
    "                print('  Items packed:', bin_items)\n",
    "                print('  Total weight:', bin_weight)\n",
    "                print()\n",
    "    print()\n",
    "    print('Number of bins used:', num_bins)\n",
    "else:\n",
    "    print('The problem does not have an optimal solution.')"
   ]
  },
  {
   "cell_type": "markdown",
   "id": "d87734db-53b4-4a20-9b26-78e16da7c852",
   "metadata": {},
   "source": [
    "#### Code Intepretation\n",
    "Then we solve this bin packing problem with the help of pywraplp solver. We set a status to solve the problem. Initally, if status equals to the optimal bin packing arrangement before we adding any items, then the default number of bin used equals to 0. Now we start to add bins. If the bin is used(y[j]=1), then we display the items in the bin and the bin weight as output. To generate values for this output, we write a for loop which takes the items and aim to add items to the bin with the item weights. If the weight of the item i in bin j is positive, then we add the item i to the bin j. The number of total bin required will be add one if the bin is used. In the end, the output will print all the details bins and the number of bins we used for this problem.\n",
    "\n",
    "#### Output Intepretation and Comparsion with First-fit Greedy Algorithm\n",
    "For this particular problem, the solution shows the items packed in ecah bin, the total bin weight and the time taken for this bin packing problem. The above solution indicates that four bins are required to pack all the items and weights of bins are 97,99,84,90 respectively. When we have ten items with weights like this, we only need to use four bins to pack these items as an optimal solution.\n",
    "\n",
    "The data produced the same outputs as First-fit Greedy Algorithm. Although the constraints settings and decision variables settings are slightly different in codes, but the general idea is similar."
   ]
  },
  {
   "cell_type": "markdown",
   "id": "da219b4d-3947-4c13-8769-fab1c61fed02",
   "metadata": {},
   "source": [
    "## Experimenting the Code from Google OR-tools for Random Bin Packing Datasets"
   ]
  },
  {
   "cell_type": "markdown",
   "id": "a8a1c71d-55c5-451b-a3ce-f210cc417028",
   "metadata": {},
   "source": [
    "Now we consider a different dataset with more items and bins and import data from the website:\n",
    "https://www2.wiwi.uni-jena.de/Entscheidung/binpp/index.htm\n",
    "\n",
    "I chose a random data set from the above link and set different capacities of bins to test if the function can be applied to various dataset."
   ]
  },
  {
   "cell_type": "markdown",
   "id": "d9711658-2691-4c55-865f-4a213fd4089a",
   "metadata": {},
   "source": [
    "### Import the .csv File to Python"
   ]
  },
  {
   "cell_type": "code",
   "execution_count": 9,
   "id": "11632920-b3f7-4d63-a42a-d5f55a77746f",
   "metadata": {},
   "outputs": [],
   "source": [
    "import csv\n",
    "import pandas as pd\n",
    "import numpy as np \n",
    "\n",
    "df = pd.read_csv('binpacking.csv', header = None)\n",
    "a = df.to_numpy()\n",
    "a = a.flatten()\n",
    "a = a.tolist()"
   ]
  },
  {
   "cell_type": "markdown",
   "id": "1ecc3b8b-a2a7-45f9-b15a-bef0b0cae99a",
   "metadata": {},
   "source": [
    "df is the dataset we would like to import and we use the code read_csv from pandas. Then we make the data set to a list to initiate the bin packing problem."
   ]
  },
  {
   "cell_type": "markdown",
   "id": "441ab310-eee3-471c-ae6d-6b4d2650f717",
   "metadata": {},
   "source": [
    "### Problem Solving based on the code from Google OR-tools"
   ]
  },
  {
   "cell_type": "code",
   "execution_count": 10,
   "id": "d2d69dfb-d6da-4574-a217-f4b84cff907b",
   "metadata": {},
   "outputs": [
    {
     "name": "stdout",
     "output_type": "stream",
     "text": [
      "Bin number 0\n",
      "  Items packed: [0, 1, 2, 3, 4, 5, 6, 7, 22]\n",
      "  Total weight: 800\n",
      "Bin number 1\n",
      "  Items packed: [8, 9, 10, 11, 12, 13, 14, 15, 16, 37]\n",
      "  Total weight: 799\n",
      "Bin number 2\n",
      "  Items packed: [17, 18, 19, 20, 21, 23, 24, 25, 26, 27, 28, 29, 44]\n",
      "  Total weight: 800\n",
      "Bin number 3\n",
      "  Items packed: [30, 31, 32, 33, 34, 35, 36, 38, 39, 40, 41, 42, 43, 45, 46, 47, 48, 49, 50, 51]\n",
      "  Total weight: 533\n",
      "Number of bins used: 4.0\n",
      "Time =  267  milliseconds\n"
     ]
    }
   ],
   "source": [
    "data = {}\n",
    "weights = a\n",
    "data['weights'] = weights\n",
    "data['items'] = list(range(len(weights)))\n",
    "data['bins'] = data['items']\n",
    "data['bin_capacity'] = 800\n",
    "\n",
    "# The main is defined to have variables, constraints and an objective function.\n",
    "def main(data):\n",
    "    solver = pywraplp.Solver.CreateSolver('SCIP')\n",
    "\n",
    "    # Variables\n",
    "    x = {}\n",
    "    for i in data['items']:\n",
    "        for j in data['bins']:\n",
    "            x[(i, j)] = solver.IntVar(0, 1, 'x_%i_%i' % (i, j))\n",
    "    y = {}\n",
    "    for j in data['bins']:\n",
    "        y[j] = solver.IntVar(0, 1, 'y[%i]' % j)\n",
    "\n",
    "    # Constraints\n",
    "    for i in data['items']:\n",
    "        solver.Add(sum(x[i, j] for j in data['bins']) == 1)\n",
    "    for j in data['bins']:\n",
    "        solver.Add(\n",
    "            sum(x[(i, j)] * data['weights'][i] for i in data['items']) <= y[j] *\n",
    "            data['bin_capacity'])\n",
    "\n",
    "    # Objective: minimize the number of bins used.\n",
    "    solver.Minimize(solver.Sum([y[j] for j in data['bins']]))\n",
    "\n",
    "    status = solver.Solve()\n",
    "\n",
    "    if status == pywraplp.Solver.OPTIMAL:\n",
    "        num_bins = 0.\n",
    "        for j in data['bins']:\n",
    "            if y[j].solution_value() == 1:\n",
    "                bin_items = []\n",
    "                bin_weight = 0\n",
    "                for i in data['items']:\n",
    "                    if x[i, j].solution_value() > 0:\n",
    "                        bin_items.append(i)\n",
    "                        bin_weight += data['weights'][i]\n",
    "                if bin_weight > 0:\n",
    "                    num_bins += 1\n",
    "                    bin_number = print('Bin number', j)\n",
    "                    item_packed = print('  Items packed:', bin_items)\n",
    "                    total_weight = print('  Total weight:', bin_weight)\n",
    "        print('Number of bins used:', num_bins)\n",
    "        print('Time = ', solver.WallTime(), ' milliseconds')\n",
    "    else:\n",
    "        print('The problem does not have an optimal solution.')\n",
    "main(data)"
   ]
  },
  {
   "cell_type": "markdown",
   "id": "da6436b2-252e-4aa6-99da-569f5a7c169d",
   "metadata": {},
   "source": [
    "We just applied the code from the first section and it worked. For bin capacity equals to 800, the total bin used equals to 8 and the time taken is around 200 milliseconds."
   ]
  },
  {
   "cell_type": "markdown",
   "id": "a636664c-4c1c-4915-9308-9daed9a19009",
   "metadata": {},
   "source": [
    "### Experiments on Large Random Arrays"
   ]
  },
  {
   "cell_type": "markdown",
   "id": "a5bfce50-a22c-4177-8c2d-e9763be32e91",
   "metadata": {},
   "source": [
    "I try to build an random integer array that takes 500 items and the weight per item is between 1 to 30. To visualize the data easilier, I make the capacity of bin very large and see if the code works."
   ]
  },
  {
   "cell_type": "code",
   "execution_count": 71,
   "id": "203e95e3-6e6d-4099-bd2d-5fa34df6a6e2",
   "metadata": {},
   "outputs": [],
   "source": [
    "weights = np.random.randint(1,30,500,dtype=int)\n",
    "data['items'] = list(range(len(weights)))\n",
    "data['weights'] = weights\n",
    "data['bin_capacity'] = 2000"
   ]
  },
  {
   "cell_type": "code",
   "execution_count": 72,
   "id": "94e16f46-8c5d-45b5-882e-09909133c74b",
   "metadata": {},
   "outputs": [
    {
     "name": "stdout",
     "output_type": "stream",
     "text": [
      "Bin number 0\n",
      "  Items packed: [0, 1, 2, 3, 4, 5, 6, 7, 8, 9, 10, 11, 12, 13, 14, 15, 16, 17, 18, 19, 20, 21, 22, 23, 24, 25, 26, 27, 28, 29, 30, 31, 32, 33, 34, 35, 36, 37, 38, 39, 40, 41, 42, 43, 44, 45, 46, 47, 48, 49, 50, 51, 52, 53, 54, 55, 56, 57, 58, 59, 60, 61, 62, 63, 64, 65, 66, 67, 68, 69, 70, 71, 72, 73, 74, 75, 76, 77, 78, 79, 80, 81, 82, 83, 84, 85, 86, 87, 88, 89, 90, 91, 92, 93, 94, 95, 96, 97, 98, 99, 100, 101, 102, 103, 104, 105, 106, 107, 108, 109, 110, 111, 112, 113, 114, 115, 116, 117, 118, 119, 120, 121, 122, 123, 124, 125, 126, 127, 128, 129, 130, 131, 132, 133, 134, 135, 136, 137, 138, 139, 140, 141, 142, 143, 144, 147, 148]\n",
      "  Total weight: 2000\n",
      "Bin number 1\n",
      "  Items packed: [145, 146, 149, 150, 151, 152, 153, 154, 155, 156, 157, 158, 159, 160, 161, 162, 163, 164, 165, 166, 167, 168, 169, 170, 171, 172, 173, 174, 175, 176, 177, 178, 179, 180, 181, 182, 183, 184, 185, 186, 187, 188, 189, 190, 191, 192, 193, 194, 195, 196, 197, 198, 199, 200, 201, 202, 203, 204, 205, 206, 207, 208, 209, 210, 211, 212, 213, 214, 215, 216, 217, 218, 219, 220, 221, 222, 223, 224, 225, 226, 227, 228, 229, 230, 231, 232, 233, 234, 235, 236, 237, 238, 239, 240, 241, 242, 243, 244, 245, 246, 247, 248, 249, 250, 251, 252, 253, 254, 255, 256, 257, 258, 259, 260, 261, 262, 263, 264, 265, 266, 267, 268, 269, 270, 271, 272, 273, 274, 275, 276, 277, 278, 279, 280, 281, 282, 283, 284, 285, 294]\n",
      "  Total weight: 2000\n",
      "Bin number 2\n",
      "  Items packed: [286, 287, 288, 289, 290, 291, 292, 293, 295, 296, 297, 298, 299, 300, 301, 302, 303, 304, 305, 306, 307, 308, 309, 310, 311, 312, 313, 314, 315, 316, 317, 318, 319, 320, 321, 322, 323, 324, 325, 326, 327, 328, 329, 330, 331, 332, 333, 334, 335, 336, 337, 338, 339, 340, 341, 342, 343, 344, 345, 346, 347, 348, 349, 350, 351, 352, 353, 354, 355, 356, 357, 358, 359, 360, 361, 362, 363, 364, 365, 366, 367, 368, 369, 370, 371, 372, 373, 374, 375, 376, 377, 378, 379, 380, 381, 382, 383, 384, 385, 386, 387, 388, 389, 390, 391, 392, 393, 394, 395, 396, 397, 398, 399, 400, 401, 402, 403, 404, 405, 406, 407, 408, 409, 410, 411, 412, 413, 414, 415, 416, 417, 418, 419, 420, 421, 435]\n",
      "  Total weight: 2000\n",
      "Bin number 3\n",
      "  Items packed: [422, 423, 424, 425, 426, 427, 428, 429, 430, 431, 432, 433, 434, 436, 437, 438, 439, 440, 441, 442, 443, 444, 445, 446, 447, 448, 449, 450, 451, 452, 453, 454, 455, 456, 457, 458, 459, 460, 461, 462, 463, 464, 465, 466, 467, 468, 469, 470, 471, 472, 473, 474, 475, 476, 477, 478, 479, 480, 481, 482, 483, 484, 485, 486, 487, 488, 489, 490, 491, 492, 493, 494, 495, 496, 497, 498, 499]\n",
      "  Total weight: 1337\n",
      "Number of bins used: 4.0\n",
      "Time =  515  milliseconds\n"
     ]
    }
   ],
   "source": [
    "sol=main(data)"
   ]
  },
  {
   "cell_type": "markdown",
   "id": "03ca7cbe-e83f-47f5-8f13-ccb44dcd93b5",
   "metadata": {},
   "source": [
    "The result shows four bins are required to carry all the items. It proves that the code works for relatively large data sets, but the time for computation is much longer than small-sacle data sets. The reason could be due to the existence of for-loop. As all the items will go to the loop to evaluate if it can be placed to the bin."
   ]
  },
  {
   "cell_type": "markdown",
   "id": "94d91495-c22a-41f6-b2fb-8c90e60a68ea",
   "metadata": {},
   "source": [
    "### Comparsion with First-Fit Greedy Algorithm on Random Samples\n",
    "\n",
    "Recall the last section, we have a function for first-fit algorithm. We apply it to random datasets  and check if the two methods output the same results."
   ]
  },
  {
   "cell_type": "markdown",
   "id": "c96b5c04-7de8-4b00-8777-9c4c9a3afe04",
   "metadata": {},
   "source": [
    "#### Output Comparsion for the .csv File"
   ]
  },
  {
   "cell_type": "code",
   "execution_count": 81,
   "id": "886792d6-886e-475b-a64d-ab8751962552",
   "metadata": {},
   "outputs": [
    {
     "name": "stdout",
     "output_type": "stream",
     "text": [
      "[[0], [1], [2], [3], [4], [5], [6], [7], [8], [9], [10], [11], [12], [13], [14], [15], [16], [17], [18], [19], [20], [21], [22], [23], [24], [25], [26], [27], [28], [29], [30], [31], [32], [33], [34], [35], [36], [37], [38], [39], [40], [41], [42], [43], [44], [45], [46], [47], [48], [49], [50], [51]]\n"
     ]
    }
   ],
   "source": [
    "print(bin_ff(a,800))"
   ]
  },
  {
   "cell_type": "markdown",
   "id": "7881be15-37bc-478f-85b3-7efd728b5be4",
   "metadata": {},
   "source": [
    "The number of bins used and the items of bins are exactly the same and it proves that the or-tools is correct for this problem."
   ]
  },
  {
   "cell_type": "markdown",
   "id": "0eaeccec-ac12-459f-95a6-713e131af70b",
   "metadata": {},
   "source": [
    "#### Output Comparsion for an Example which the Weights of Items Exceeds the Capacity of Bins\n",
    "\n",
    "We will test if the two functions pass if we set the bin capacity below the weights of items. Ideally, if the capacity of bin is less than the weight of item, we cannot pack the item into the bin."
   ]
  },
  {
   "cell_type": "markdown",
   "id": "0dd9d182-a8ab-4040-a8e2-989c0777ae33",
   "metadata": {},
   "source": [
    "##### Google or-tools Result"
   ]
  },
  {
   "cell_type": "code",
   "execution_count": 83,
   "id": "1e613948-a282-4ac8-ab17-69313f104ede",
   "metadata": {},
   "outputs": [
    {
     "name": "stdout",
     "output_type": "stream",
     "text": [
      "The problem does not have an optimal solution.\n"
     ]
    }
   ],
   "source": [
    "weights =[48, 30, 19, 36, 36, 27, 42, 42, 36, 24, 30]\n",
    "data['bin_capacity'] = 20\n",
    "sol=main(data)"
   ]
  },
  {
   "cell_type": "markdown",
   "id": "bae44c0b-9069-4717-898a-7c90ab7e161b",
   "metadata": {},
   "source": [
    "If we set the bin capacity lower than the maximum weight of item, google or-tools shows no result and thus satisfies with the constraints we set in the previous codes. "
   ]
  },
  {
   "cell_type": "markdown",
   "id": "b5a2ca81-2529-49d9-b7f4-a6818ddadf22",
   "metadata": {},
   "source": [
    "##### First-Fit Greedy Function Result"
   ]
  },
  {
   "cell_type": "code",
   "execution_count": 85,
   "id": "2bd1d89b-3d53-42b2-93eb-55c08b4e5d37",
   "metadata": {},
   "outputs": [
    {
     "name": "stdout",
     "output_type": "stream",
     "text": [
      "[[0], [1], [2], [3], [4], [5], [6], [7], [8], [9], [10]]\n"
     ]
    }
   ],
   "source": [
    "print(bin_ff(weights,20))"
   ]
  },
  {
   "cell_type": "markdown",
   "id": "c3b26a9d-6587-4bb2-9609-9777376b57b8",
   "metadata": {},
   "source": [
    "Here comes for a problem for the first-fit greedy function we built in the lecture. Since we do not add the constraints for the bin capacity larger or equal to the highest weights of items, we thus get the result of each individual item is packed in a bin. However, we cannot actually pack the items because our bin is too small to pack them.\n",
    "\n",
    "For function improvement, we can add the constraints to the function just like what the goole or-tools did, but it takes more time to run the function especially for large datasets."
   ]
  },
  {
   "cell_type": "markdown",
   "id": "772871cf-aba4-45ae-8749-27d57d473e99",
   "metadata": {},
   "source": [
    "## Conclusion\n",
    "In general, both first-fit greedy algorithm and or-tools function can be applied to many other bin packing dataset and for computational efficiency. Since multiple for-loops are existed in the solver, for very large-scale data sets, the program will taker longer time to get an optimal solution, but it is still very good choice for small scale data sets. While the first-fit greedy algorithm has a fast calculation time and accurate results if the capacity of bins is setted previously, but for an unknown weight dataset, we should improve the function to make sure that individual item weight does not exceed the maximum capacity of bins."
   ]
  },
  {
   "cell_type": "markdown",
   "id": "c16ea341-45e9-433b-98d1-2c20b4c83714",
   "metadata": {},
   "source": [
    "## Reference\n",
    "\n",
    "Google. (n.d.). The bin packing problem &nbsp;|&nbsp; or-tools &nbsp;|&nbsp; google developers. Google. Retrieved December 9, 2022, from https://developers.google.com/optimization/bin/bin_packing \n",
    "\n",
    "Wikimedia Foundation. (2022, November 16). Bin Packing problem. Wikipedia. Retrieved December 9, 2022, from https://en.wikipedia.org/wiki/Bin_packing_problem "
   ]
  }
 ],
 "metadata": {
  "kernelspec": {
   "display_name": "Python 3 (ipykernel)",
   "language": "python",
   "name": "python3"
  },
  "language_info": {
   "codemirror_mode": {
    "name": "ipython",
    "version": 3
   },
   "file_extension": ".py",
   "mimetype": "text/x-python",
   "name": "python",
   "nbconvert_exporter": "python",
   "pygments_lexer": "ipython3",
   "version": "3.10.6"
  }
 },
 "nbformat": 4,
 "nbformat_minor": 5
}
