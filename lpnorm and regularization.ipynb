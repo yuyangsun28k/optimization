{
 "cells": [
  {
   "cell_type": "markdown",
   "id": "bb956683-1283-4641-87e6-db226d78f788",
   "metadata": {},
   "source": [
    "# $L_p$ Norm"
   ]
  },
  {
   "cell_type": "markdown",
   "id": "4f5f43a1-7c98-4402-9594-6efbd0445d4e",
   "metadata": {
    "tags": []
   },
   "source": [
    "This artifact focuses on the introduction of $L_p$ spaces, $L_p$ norms, interpretations of some popular $L_p$ norms. Then, it discusses $L_p$ norm in regularization."
   ]
  },
  {
   "cell_type": "markdown",
   "id": "17f8c02c-0c78-4fa3-803b-f5d63599eaf9",
   "metadata": {},
   "source": [
    "## Introduction\n",
    "\n",
    "### $L_p$ Space\n",
    "Under the scope of real-value functions, $L_p$ Space is a function space where it offers a useful generalization of p-norm for finite vector spaces. $L_p$ Space derives from an important functional analysis class and it has wide usages in multiple fields include physics, statistics, engineering and other analysis-related areas."
   ]
  },
  {
   "cell_type": "markdown",
   "id": "7cdf1334-3498-452b-8e0e-9f6eee8f9011",
   "metadata": {},
   "source": [
    "We start with the set underlying the $L_p$ space. The set underlying the $L_p$ space is a sequence contains numbers from $x_1$ to $x_n$ . The set contains all real numbers in the sequence such that the sum of all numbers in the sequence to the power p is bounded.\n",
    "In mathematics symbols, it looks like:\n",
    "\n",
    "$$ L_p = x= \\{ x_1,x_2,x_3,\\dots \\} \\mid \\sum_{i=1}^{\\infty} |x_i|^p < {\\infty} $$\n"
   ]
  },
  {
   "cell_type": "markdown",
   "id": "949d05ad-1364-4fec-8e0a-a2c83ef1836e",
   "metadata": {},
   "source": [
    "x here stands for a sequence containing some elements such that the sum of absolute values for all the elements to the power p is bounded. Since we can calculate the value of sets in the $L_p$ space, we use $L_p$ norm to represent the values, and $L_p$ norm will be introduced at the following session (Garcia, 2020)."
   ]
  },
  {
   "cell_type": "markdown",
   "id": "3b76b8e0-d4f4-4997-9a56-297a7c64b00b",
   "metadata": {},
   "source": [
    "The applications of $L_p$ Space are wide. In statistics regression, the $L_1$ Penalty and $L_2$ Penalty are based on the $L_p$ Space for shrinkage regression methods. In fields like quantum mechanics and stochastic calculus, the Hilbert spaces are also central to many applications and they belong to the $L_p$ Space."
   ]
  },
  {
   "cell_type": "markdown",
   "id": "a83ad0fc-2d6d-4c07-84e6-9710546a11da",
   "metadata": {},
   "source": [
    "### $L_p$ Norm\n",
    "\n",
    "To determine the magnitude in the $L_p$ Space, we introduce $L_p$ Norm. Different from $L_p$ Space, $L_p$ Norm is a scalar and usually we would like to calculate its the value (Bernstein, 2021). To define a normed vector spaces, we have to satisfied with three conditons:\n",
    "\n",
    "1. It should be positive definite: If $|x| = 0$, then $x = 0$.\n",
    "\n",
    "2. It should follow triangle inequality: $|x + y| \\leq |x| + |y|$ where $x, y \\in \\mathbb{R}^n$.\n",
    "\n",
    "3. It should be homogenous: $|kx| = |k| |x|$ where $x \\in \\mathbb{R}^n$ and $k \\in \\mathbb{R}$\n",
    "\n",
    "\n",
    "We then interpret the p in $L_p$ Space. The letter p stands for p-norm here, if the p is a real number and $\\geq{1}$, then p-norm of vector $x = (x_1,x_2,\\dots,x_n)$ equals to:\n",
    "$$\\parallel x \\parallel_p = (\\sum_{i=1}^{n}|x_i|^p)^\\frac{1}{p}$$\n",
    "\n",
    "Intuitively, for assigning different p values, we can have different norms. One of the major applications of p-norm is to measure the magnitude of vectors based on the p values. That is, if we have an input vector, and we apply the vector norm functions with various p-norms, we will get completely different results. Thus, we can discuss with some popular norms with some explanations (Garcia, 2020)."
   ]
  },
  {
   "cell_type": "markdown",
   "id": "0ffab6e1-4c14-4b96-8c5e-967760265ebd",
   "metadata": {},
   "source": [
    "#### $L_0$ Norm"
   ]
  },
  {
   "cell_type": "markdown",
   "id": "2a672200-e5c2-4ea2-9ee4-1707a45304de",
   "metadata": {},
   "source": [
    "We consider $L_0$ norm a special case. We can not classify it as a norm because it does not satsified with the properties of normed vector spaces. If we look at the definition of $L_p$ norm, $p=0$ does not satisfied with it. \n",
    "\n",
    "Strictly speaking, $L_0$ norm is a not norm and does not satisified with the above three conditions but we can get the value of $L_0$ norm as it equals to the number of nonzero elements in a vector (Bernstein, 2021). If we substitute the $p=0$ into the norm equation, it gives us the individual vector elements raised to power 0, which is 1. Therefore, $L_0$ norm helps to count the nonzero elements in the vector. For example, we consider a vector $x = [1,0,2,3,4]$, then the value of $L_0$ norm equals to 4 because there are four nonzero elements."
   ]
  },
  {
   "cell_type": "markdown",
   "id": "712eec40-0ba2-41bb-922d-6042f8636af6",
   "metadata": {},
   "source": [
    "#### $L_1$ Norm\n",
    "\n",
    "When p =1, we have $L_1$ norm, also called taxicab norm. The value of $L_1$ norm equals to the sum of magnitudes of all vectors in a space. To use mathematical symbols, we can represent it as:\n",
    "$$\\parallel x\\parallel_1 = \\sum_{i=1}^{n}|x_i|$$\n",
    "$L_1$ norm measures the distances between vectors by summing up the absolute differences of vector components. Now let us consider a simple vector contains two components, $ x = [3,4]$. To visualize the distances better, I create a plot as below:"
   ]
  },
  {
   "cell_type": "code",
   "execution_count": 1,
   "id": "629a3199-31ca-4968-843b-251f30a2971f",
   "metadata": {},
   "outputs": [
    {
     "data": {
      "image/png": "[encoded data removed]",
      "text/plain": [
       "<Figure size 640x480 with 1 Axes>"
      ]
     },
     "metadata": {},
     "output_type": "display_data"
    }
   ],
   "source": [
    "from matplotlib import pyplot as plt\n",
    "import numpy as np\n",
    "x=3\n",
    "y=4\n",
    "plt.plot(x,y,'bo')\n",
    "plt.grid()\n",
    "plt.axis([0, 5, 0, 5])\n",
    "plt.title('$L_1$ norm')\n",
    "plt.hlines(y = 0,color='red',xmin = 0, xmax = x)\n",
    "plt.vlines(x = 3,color='darkred',ymin = 0, ymax = y)\n",
    "plt.show()"
   ]
  },
  {
   "cell_type": "markdown",
   "id": "1d911652-c400-4c3b-86c3-d8325c236f2f",
   "metadata": {},
   "source": [
    "For example, if the vector x is $[3,4]$ and we would like to find its $L_1$ norm, we just need to calculate the corresponding magnitudes for each dark red line and sum them up. In this case, the $L_1$ norm equals to 7.\n",
    "\n",
    "For more components in the vector, the $L_1$ norm equals to the sum of the magnitude for each individual element. For example, $ y=[3,4,1,-3]$ has a $L_1$ norm of 11 because the magnitude $|3|+|4|+|1|+|-3|=11$."
   ]
  },
  {
   "cell_type": "markdown",
   "id": "bc7fac20-e165-43fe-ac0f-1358759156c8",
   "metadata": {},
   "source": [
    "#### $L_2$ Norm\n",
    "\n",
    "When p =2, we have $L_2$ norm, also called Euclidean norm norm. The value of $L_2$ norm equals to the shortest distance between two points in a space. To use mathematical symbols, we can represent it as:\n",
    "$$\\parallel x \\parallel_2 = (\\sum_{i=1}^{n}|x_i|^2)^\\frac{1}{2}$$"
   ]
  },
  {
   "cell_type": "markdown",
   "id": "0a579412-f476-4dc3-8778-44c7818ccc26",
   "metadata": {},
   "source": [
    "To see if there is a significant difference from $L_1$ norm, we visualize how a $L_2$ norm is calculated in a 2-D plane:"
   ]
  },
  {
   "cell_type": "code",
   "execution_count": 2,
   "id": "3610ed8c-5384-46b0-8b67-bba3853affd4",
   "metadata": {},
   "outputs": [
    {
     "data": {
      "image/png": "[encoded data removed]",
      "text/plain": [
       "<Figure size 640x480 with 1 Axes>"
      ]
     },
     "metadata": {},
     "output_type": "display_data"
    }
   ],
   "source": [
    "x=[0,3]\n",
    "y=[0,4]\n",
    "plt.plot(x,y,'bo')\n",
    "plt.grid()\n",
    "plt.axis([0, 5, 0, 5])\n",
    "plt.title('$L_2$ norm')\n",
    "plt.plot(x, y, 'red',linestyle=\"--\")\n",
    "plt.show()"
   ]
  },
  {
   "cell_type": "markdown",
   "id": "9f7d4866-7d15-4ef0-9f3d-18c43ec5dabc",
   "metadata": {},
   "source": [
    "The dashed red line represents the value of $L_2$ norm for the same vector, recall the property of pythagoras theorem:\n",
    "$$\\parallel x \\parallel_2 = \\sqrt{|3|^2+|4|^2}=5$$\n",
    "\n",
    "The magnitude of $L_2$ norm is just the direct distance from the origin to the vector point.\n",
    "$L_2$ norm often help to calculate the distance from the origin. The result is a positive distance value."
   ]
  },
  {
   "cell_type": "markdown",
   "id": "2921ec94-301e-4905-a220-c54f2415639c",
   "metadata": {},
   "source": [
    "#### $L_\\infty$ Norm\n",
    "\n",
    "When p=$\\infty$, we have $L_\\infty$ norm, and it is a special case of $L_p$ norm. In reality, we can’t just substitute p=$\\infty$ in the standard p-norm equation. However, we can study the function's behavior as p approaches to infinity (Bernstein, 2021). In mathematics symbols, if we take $x \\in \\mathbb{R^n}$,$\\parallel x\\parallel_\\infty = \\max\\limits_{(1 < i < \\infty)} |xi|$ and represent it to $\\parallel x\\parallel_p$, then we have:\n",
    "$$\\parallel x\\parallel_p = \\parallel x_i\\parallel_\\infty (\\sum_{i=1}^{n}(\\frac{|x_i|}{\\parallel x_i\\parallel_\\infty})^p)^\\frac{1}{p}$$\n"
   ]
  },
  {
   "cell_type": "markdown",
   "id": "3298387a-d511-4d81-b255-1464fef883cf",
   "metadata": {},
   "source": [
    "Note that $(\\frac{|x_i|}{\\parallel x_i\\parallel_\\infty})^p) \\leq 1$ for every i in x. Then we can get: $$\\parallel x_i\\parallel_\\infty \\ \\leq  \\ \\parallel x_i\\parallel_p \\ \\leq \\ \\parallel x_i\\parallel_\\infty n^\\frac{1}{p}$$"
   ]
  },
  {
   "cell_type": "markdown",
   "id": "e0bbdbe6-8561-4915-916c-baf5a3f34302",
   "metadata": {},
   "source": [
    "Because $n >0 $ and $ \\lim_{x\\to\\infty} n^\\frac{1}{p} \\rightarrow 1$, then $ \\lim_{x\\to\\infty}\\parallel x_i\\parallel_p = \\parallel x_i\\parallel_\\infty$.\n",
    "\n",
    "Therefore, $$\\parallel x_i\\parallel_\\infty = \\max\\limits_{(i)} |xi|$$\n",
    "\n",
    "Then this tells that $L_\\infty$ norm returns the absolute value of the largest magnitude element in a vector. For example,$ y=[3,4,1,-3]$ has a $L_\\infty$ norm of 4 because 4 is the largest element in this vector (Chawla, 2022)."
   ]
  },
  {
   "cell_type": "markdown",
   "id": "7611d261-4f75-4d59-adbe-ccdad18fcb73",
   "metadata": {},
   "source": [
    "## $L_p$ norm in Regularization\n",
    "\n",
    "In machine learning, we have a term called model selection. It is based on which predictors we would like to use in our model. To do this, we choose the predictors with lowest estimate risks in the model to balance the bias and variance. Another way to control bias and variance in maching learning is through regularization (James et al., 2021). Rather than selecting \"reasonable\" predictors, we try a few combinations of predictorsand and use them.\n",
    "\n",
    "### Regularization\n",
    "Some problems tend to have really complicated results that might increase the difficulties to interpret. This situation can have influences on the optimization problems where it is hard to choose the \"best\" result among all possible choices. In addition, sometimes the models interpret the data in one way for initial data sets but cannot apply the same interpretion method to other data sets where errors can be occured (James et al., 2021). As a result, the error is \"overfitted'. Thus, to obtain the results in a \"simple\" way or prevent overfitting, we use regularization with the help of $L_p$ norms.\n",
    "\n",
    "The goal of regularization is to optimimum the model complexity. To do that, we add a term to the optimization problem to impose a cost to make the optimization solution unique. The term could be priors, penalites or constraints. Two very popular regularization methods are lasso($L_1$) and ridge($L_2$) regularization and we will elaborate them in this section.\n",
    "\n",
    "### $L_2$ regularization: Ridge Regression\n",
    "\n",
    "Consider the formula for optimization and residual sum of square in least-square method. The goal is the same, that is to minimize the residual sum of square thus it is in the scope of optimization problem. See below:\n",
    "\n",
    "\n",
    "$$RSS = \\sum_{i=1}^{n}(y_i-\\beta_0-\\sum_{j=1}^{p}\\beta_j x_{ij})^2$$\n",
    "\n",
    "Ridge regression is in similar lagrangian form. See below:\n",
    "\n",
    "\n",
    "$$\\hat{\\beta}^R = \\sum_{i=1}^{n}(y_i-\\beta_0-\\sum_{j=1}^{p}\\beta_j x_{ij})^2 + \\lambda \\sum_{j=1}^{p}\\beta_j^2= RSS + \\lambda \\sum_{j=1}^{p}\\beta_j^2$$\n",
    "\n",
    "where $\\lambda \\geq 0$ is a tuning parameter. Note that there is shrinkage penality in the above formula: $\\lambda \\sum_{j=1}^{p}\\beta_j^2$, and it looks like a “squared magnitude” of coefficient as a penalty term to the loss function. The coeffieicnts are $\\beta_j$ where $j=1,2,\\dots, p$, $p$ is the number of coefficients in the formula.\n",
    "\n",
    "Recall the equation of $L_2$ norm, there are some connections between the magnitude of $L_2$ norm and this shrinkage penality term in the ridge regression where we desire to find the shortest magnitude. The formula for a simple $L_2$ norm looks like:\n",
    "\n",
    "$$\\parallel x \\parallel_2 = \\sqrt{\\beta_1^2+\\beta_2^2}= \\sqrt{\\sum_{j=1}^{p}\\beta_j^2}$$\n",
    "\n",
    "Then, if we take squares,\n",
    "\n",
    "$$\\parallel x \\parallel_2^2 = \\beta_1^2+\\beta_2^2= \\sum_{j=1}^{p}\\beta_j^2$$\n",
    "\n",
    "Where ridge regression is come from $L_2$ norm.\n",
    "\n",
    "Since the goals of ridge regression are to find estimate coefficients that fit the data well and reduce the RSS at the same time, thus we need to minimize the value this shrinkage penality by changing the coefficients values close to 0.\n",
    "\n",
    "\n",
    "We look at this shrinkage penality again: $$\\lambda \\sum_{j=1}^{p}\\beta_j^2$$\n",
    "\n",
    "The tuning parameter $\\lambda \\geq 0$ is a control of the regression coefficient estimates. It is not fixed and we have to select a good value for $\\lambda$. For example, if $\\lambda =0$, then there is no penalty effect and the ridge regression will produce the least squares estimates. However, if if $\\lambda = \\infty$, then the value of shrinkage penality can be extremely high. The results might influence the regression RSS and cause \"underfitting\" unless all the coefficients $\\beta$ are very close to 0 (James et al., 2021). Therefore, a good $\\lambda$ value is critical for ridge regression because we can have complete different sets of coefficient estimates for each $\\lambda$ value we choose.\n",
    "\n"
   ]
  },
  {
   "cell_type": "markdown",
   "id": "f4b2f2d6-6951-4e7c-b6cd-1e3765db2a2b",
   "metadata": {},
   "source": [
    "### $L_1$ regularization: Lasso Regression\n",
    "\n",
    "Ridge regression has a very obvious disadvantage when the number of variable $p$ is large. Ridge regression can be computational heavy and difficult to explain for large $p$ because the final result for ridge regression include all $p$ predictors (James et al., 2021).\n",
    "\n",
    "Then we introduce lasso regression. Lasso regression can pick certain predictors in the whole dataset and perform the model. For example, in a dataset with ten predictors, it appears that there are three important predictors. We cannot perform ridge regression because it will always output the model involving ten predictors. Lasso regression can help us to build a model based on the three important predictiors (James et al., 2021).\n",
    "\n",
    "The mathematical expression for lasso regression is similar to ridge regression except for the penalty term. See below:\n",
    "\n",
    "$$\\hat{\\beta}^L = \\sum_{i=1}^{n}(y_i-\\beta_0-\\sum_{j=1}^{p}\\beta_j x_{ij})^2 + \\lambda \\sum_{j=1}^{p} \\lvert \\beta_j \\rvert= RSS + \\lambda \\sum_{j=1}^{p} \\lvert \\beta_j \\rvert$$\n",
    "\n",
    "The $\\beta$ term has been replaced from a squared term to an absolute value term. Recall the formula for $L_1$ norm, lasso regression performs $L_1$ penalty by adjusting the magnitudes of coefficient among selected predictors.\n",
    "\n",
    "Same as ridge regression, lasso regression shrinks the coefficient estimates towards zero by adjusting the $\\lambda$. However, lasso regression can perform variable selections in a model by keeping the \"important\" predictors and set other coefficients to 0 when the value of $\\lambda$ is succificent large. Thus, lasso models can be much easier to interpret results than ridge regression. "
   ]
  },
  {
   "cell_type": "markdown",
   "id": "f8f09268-1d37-41d6-be6b-e33d82212849",
   "metadata": {},
   "source": [
    "### $L_1$ and $L_2$ Regularization in a Constrained Version\n",
    "We now convert the lagrangian form of ordinary least squares, ridge regression and lasso regression into a constrained version (James et al., 2021).\n",
    "\n",
    "OLS Model:\n",
    "\n",
    "$$ \n",
    "\\begin{array}{rl}\n",
    "& \\min_{\\beta} \\frac{1}{n} \\sum_{i} (y_i - x_i^T \\beta)^2 \\\\\n",
    "& \\text{s.t.}  \\ \\beta \\in \\mathbb{R}^p \\\\\n",
    "\\end{array}\n",
    "$$\n",
    "\n",
    "Ridge Regression:\n",
    "\n",
    "$$ \n",
    "\\begin{array}{rl}\n",
    "& \\min_{\\beta} \\frac{1}{n} \\sum_{i} (y_i - x_i^T \\beta)^2 \\\\\n",
    "& \\text{s.t.}  \\ \\sum_{j} \\beta_j^2 < s \\\\\n",
    "\\end{array}\n",
    "$$\n",
    "\n",
    "Lasso Regression:\n",
    "\n",
    "$$ \n",
    "\\begin{array}{rl}\n",
    "& \\min_{\\beta} \\frac{1}{n} \\sum_{i} (y_i - x_i^T \\beta)^2 \\\\\n",
    "& \\text{s.t.}  \\ \\sum_{j} \\lvert \\beta_j \\rvert < s \\\\\n",
    "\\end{array}\n",
    "$$"
   ]
  },
  {
   "cell_type": "markdown",
   "id": "aa9d5186-c478-4fbb-93e8-e5e503cdd945",
   "metadata": {},
   "source": [
    "When we look at this constrained version of lasso regression, the goal is to find the set of coefficient estimates that result the smallest RSS and subject to a constraint s. Then recall the knowledge from mathematical optimization, if s is extremely large, then the constraint for lasso regression is not that restrictive thus we can have large coefficients estimates for some $\\beta_j$. In a specific case when s is large enough to let the least squares solution falls within the constraints, then lasso will simply outputs the least squares solution. In contrast, if we have a very small s value then the sum coefficients must be also small and not exceed the constraints. The constraint for ridge regression can also be interpreted in a similar way, thus the constrained version equations reveal a connection between the ridge and lasso regression (James et al., 2021)."
   ]
  },
  {
   "cell_type": "markdown",
   "id": "cec2669d-9ad4-45fe-9126-b076e3fc9ce2",
   "metadata": {},
   "source": [
    "### Question: Why $L_1$ and $L_2$ regularization are more popular than other $L_p$ norms?\n",
    "\n",
    "Now we have a better view of regularization. However, why don't we choose $L_0$ norm or other $L_p$ norms as regularization methods? To answer this, we have to know that a good regularization should have several properties.\n",
    "\n",
    "* convex (computational efficiency)\n",
    "* contain corners (performs variable selection)"
   ]
  },
  {
   "cell_type": "code",
   "execution_count": 1,
   "id": "9f3a8b53-02c0-4953-ade5-458c53f0631a",
   "metadata": {},
   "outputs": [
    {
     "data": {
      "text/html": [
       "<img src=\"https://ekamperi.github.io/images/lp_norms_2d.png\" width=\"900\" height=\"500\"/>"
      ],
      "text/plain": [
       "<IPython.core.display.Image object>"
      ]
     },
     "execution_count": 1,
     "metadata": {},
     "output_type": "execute_result"
    }
   ],
   "source": [
    "from IPython.display import Image\n",
    "Image(url=\"https://ekamperi.github.io/images/lp_norms_2d.png\", width=900, height=500)"
   ]
  },
  {
   "cell_type": "markdown",
   "id": "a7c9ee1f-c7a3-4775-b324-4f54135fba9d",
   "metadata": {},
   "source": [
    "The above diagram is from the website where it describes the geometry of convexity. When $p<1$, for example, $p=0.5$ for the firrst plot in this diagram, the geometry is not convex. We cannot find a linear line for points in the corners. Thus, if the regularzation itself is not convex, we do not have a choice to find the optimal solution (James et al., 2021)."
   ]
  },
  {
   "cell_type": "markdown",
   "id": "f1f7ba72-0c33-4ad8-8be2-2487ccda5733",
   "metadata": {},
   "source": [
    "$p=1$ is the lasso regression. It is convex and have corners at its edge. It is a perfet regularization for machine learning. Since ridge regression($p=2$) outputs all predictors in the model and its geometry does not contain corners, thus it cannot be used to select variables.\n",
    "\n",
    "If $p$ gets larger, the geometry will be convex and as the two plots on the right shown (where $p=3$ and $p=100$). We can choose them as regularization, but due limited computing power, we perfer to make the small values for p-norms.\n",
    "\n",
    "Imagine we want to find the optimization value for $L_{100}$ regularization:\n",
    "\n",
    "$$ \n",
    "\\begin{array}{rl}\n",
    "& \\min_{\\beta} \\frac{1}{n} \\sum_{i} (y_i - x_i^T \\beta)^2 \\\\\n",
    "& \\text{s.t.}  \\ \\sum_{j} \\beta_j ^{100} < s \\\\\n",
    "\\end{array}\n",
    "$$\n",
    "\n",
    "If we interpret the constraint row, we have to evaluate the coefficients with the power of 100 and make sure the sum is less than s, but that requires strong computing power. When the number of predictors is large, then we have to spend much more time computing the coefficient estimates than other regularizaion methods with small p-norms."
   ]
  },
  {
   "cell_type": "markdown",
   "id": "4f8ea2b1-9fa2-48b3-8df1-ef5bafcd3380",
   "metadata": {},
   "source": [
    "## Conclusion\n",
    "\n",
    "The $L_p$ norm can be applied into many real-world applications for optimization problems. It can provide robustness of models and increase necessary properties of model like model sparsity, optimality and computational efficiency. In machine learning, $L_p$ norm are also widely used in regularization to select variables and models for complex data sets."
   ]
  },
  {
   "cell_type": "markdown",
   "id": "06e39fe8-bbf7-4b3f-a9c8-a047a83afac8",
   "metadata": {},
   "source": [
    "## References\n",
    "\n",
    "Bernstein, M. (2021, November 23). Normed vector spaces. Retrieved December 9, 2022, from https://mbernste.github.io/posts/normed_vector_space/\n",
    "\n",
    "Chawla, A. (2022, June 10). Vector norms in machine learning. Medium. Retrieved December 9, 2022, from https://towardsdatascience.com/vector-norms-in-machine-learning-5b8381a5130c \n",
    "\n",
    "Garcia, S. I. (2020, December 22). L0 norm, L1 norm, L2 Norm &amp; L-Infinity Norm. Medium. Retrieved December 9, 2022, from https://montjoile.medium.com/l0-norm-l1-norm-l2-norm-l-infinity-norm-7a7d18a4f40c \n",
    "\n",
    "James, G., Witten, D., Hastie, T., &amp; Tibshirani, R. (2021, August 4). An Introduction to Statistical Learning. Retrieved December 9, 2022, from https://hastie.su.domains/ISLR2/ISLRv2_website.pdf \n",
    "\n",
    "Wikimedia Foundation. (2022, November 20). Norm (mathematics). Wikipedia. Retrieved December 9, 2022, from https://en.wikipedia.org/wiki/Norm_(mathematics)#Taxicab_norm_or_Manhattan_norm \n",
    "\n",
    "Wikimedia Foundation. (2021, December 12). Sparse approximation. Wikipedia. Retrieved December 9, 2022, from https://en.wikipedia.org/wiki/Sparse_approximation "
   ]
  }
 ],
 "metadata": {
  "kernelspec": {
   "display_name": "Python 3 (ipykernel)",
   "language": "python",
   "name": "python3"
  },
  "language_info": {
   "codemirror_mode": {
    "name": "ipython",
    "version": 3
   },
   "file_extension": ".py",
   "mimetype": "text/x-python",
   "name": "python",
   "nbconvert_exporter": "python",
   "pygments_lexer": "ipython3",
   "version": "3.10.6"
  }
 },
 "nbformat": 4,
 "nbformat_minor": 5
}
