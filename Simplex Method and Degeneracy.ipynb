{
 "cells": [
  {
   "cell_type": "markdown",
   "id": "e3c47dc5-bef3-4adf-800a-4237ce068bba",
   "metadata": {
    "tags": []
   },
   "source": [
    "# Simplex Method\n",
    "\n",
    "## Introduction\n",
    "\n",
    "In mathematical optimization, simplex method is a popular linear programming algorithm that can solve many linear optimization problems. Optimization problems aim to select the best element regarding certain criterias among all possible elements. To select the best element, simplex method introduces slack variables, tableaus, and pivot variables to find the optimal solution for an optimization problem. The simplex technique can be solved with python codes and this artifact will explain how a standard simplex method work in solving problems with an example illustrated.\n",
    "\n",
    "### Procedure of Simplex Method\n",
    "Consider the linear optimization problem: maximize $\\mathbf{c}^T \\mathbf{x}$ subject to $A \\mathbf{x} \\leq \\mathbf{b}$, $\\mathbf{x} \\geq 0$. Right here we have an objective function of maximizing $\\mathbf{c}^T \\mathbf{x}$, the decision variable $\\mathbf{x}$ and constraints  $A \\mathbf{x} \\leq \\mathbf{b}$, $\\mathbf{x} \\geq 0$. To perform simplex method, we need to rewrite the function and make it into a standard form and then:\n",
    "\n",
    "- Introduce slack variables for each constraint\n",
    "- Create tableau\n",
    "- Pivot variables\n",
    "- Use pivot to generate new tableau\n",
    "- Check for optimality\n",
    "- Repeat pivot if necessary\n",
    "- Check for optimal Values\n"
   ]
  },
  {
   "cell_type": "markdown",
   "id": "708a4437-2ec2-4a89-a0b4-80848fb6681e",
   "metadata": {},
   "source": [
    "## Case Study 1 -- Standard Simplex Method"
   ]
  },
  {
   "cell_type": "markdown",
   "id": "11ab8335-78d5-4839-bf20-c5b3b503dca1",
   "metadata": {
    "tags": []
   },
   "source": [
    "In this section, we design a matrix and use the pivot function to solve the problem as each pivot is equivalent to the vertex. We change pivots until it gets to an optimization.\n",
    "\n",
    "Now we consider using the random-generated simplex problems tool from the Vanderbei textbook:\n",
    "\n",
    "$$\n",
    "\\begin{array}{rl}\n",
    "\\text{maximize:} & -2x_1 − x_2 + x_3 \\\\ \n",
    "\\text{subject to:} & x_1 + 4x_3 \\leq 4 \\\\\n",
    "& -x_1 + x_2 + x_3 \\leq 5 \\\\\n",
    "& x_1, x_2, x_3 \\geq 0 \\\\\n",
    "\\end{array}\n",
    "$$\n",
    "\n",
    "### Question: How does the simplex method work?"
   ]
  },
  {
   "cell_type": "code",
   "execution_count": 3,
   "id": "7aa105ac-2c01-443c-9855-ef29840f39ba",
   "metadata": {},
   "outputs": [],
   "source": [
    "import numpy as np\n",
    "import scipy.linalg as la\n",
    "from scipy.optimize import linprog"
   ]
  },
  {
   "cell_type": "markdown",
   "id": "fbb3dc04-60cb-4dd4-a310-3688cfac51a7",
   "metadata": {},
   "source": [
    "Rewrite the linear problem into matrix form:\n",
    "\n",
    "$$\n",
    "\\mathbf{A} = \\begin{bmatrix} 1 & 0 & 4 \\\\ -1 & 1 & 1 \\end{bmatrix}\n",
    "\\hspace{1in}\n",
    "\\mathbf{b} = \\begin{bmatrix} 4 \\\\ 5 \\end{bmatrix}\n",
    "\\hspace{1in}\n",
    "\\mathbf{c} = \\begin{bmatrix} -2 \\\\ -1 \\\\ 1 \\end{bmatrix}\n",
    "$$"
   ]
  },
  {
   "cell_type": "markdown",
   "id": "578b6af8-590d-4057-b0f4-a695ea494da9",
   "metadata": {},
   "source": [
    "#### Create Tableau and Introduce Slack Variables"
   ]
  },
  {
   "cell_type": "code",
   "execution_count": 4,
   "id": "a22b75af-ae55-4f09-b7a5-6964d793dc42",
   "metadata": {},
   "outputs": [
    {
     "name": "stdout",
     "output_type": "stream",
     "text": [
      "[[ 1.  0.  4.  1.  0.  4.]\n",
      " [-1.  1.  1.  0.  1.  5.]\n",
      " [-2. -1.  1.  0.  0.  0.]]\n"
     ]
    }
   ],
   "source": [
    "A = np.array([[1.,0.,4.],[-1.,1.,1.]])\n",
    "m,n = A.shape\n",
    "I = np.eye(m)\n",
    "c = np.array([-2.,-1.,1.])\n",
    "b = np.array([4.,5.])\n",
    "T = np.vstack([np.hstack([A,I,b.reshape((m,1))]) , np.hstack([c,np.zeros(m+1)]) ])\n",
    "print(T)"
   ]
  },
  {
   "cell_type": "markdown",
   "id": "1b54e8cf-e2b5-48f9-ba66-846d0b57fbba",
   "metadata": {},
   "source": [
    "Basically we put rewrited matrices listed above to a large matrix where all the information is contained in it. The first two rows are constraints and the last row is the objective function.\n",
    "The matrix T looks like the following in math notations if we compared the matrix T values with matrix A, b and c:\n",
    "\n",
    "$$\n",
    "T = \n",
    "\\begin{bmatrix}\n",
    "A & I & \\mathbf{b} \\\\\n",
    "\\mathbf{c}^T & 0 & 0\n",
    "\\end{bmatrix}\n",
    "$$\n",
    "\n",
    "where I is an identity matrix.\n",
    "\n",
    "Firstly, notice that we introduce two columns (column 4 and column 5) as slack variables. The reason to add slack variables is to change the inequality function to equality. The question has two constraints thus we need 2 slack variables. each row corresponds to an equation. Each slack variable will always has a +1 coefficient in its particular constraint. Since slack variables are required in the constraints to transform them into solvable equalities with one definite answer.\n",
    "\n",
    "The last row is the objective function. The goal is to maximize the last row, where (-2,-1,1) are the coefficients for basic variables. The first two zeros in the last row (0,0) are slack variables, which are not in the original objective function of this problem. Thus, we set the values for slack variables to 0. The last 0 in this row is the value of this objective function.\n",
    "\n",
    "#### Choose Pivot\n",
    "The purpose of pivot is to adjust the tableau by selecting an entering variable and a leaving variable to an adjacent vertex for optimality. \n",
    "\n",
    "For choosing pivot, we have to consider the coefficients on the last row of the tableau. We aim to choose the largest positive coefficient among all the x to increase the value of this variable for potential optimal value of this objective function, also denote as the entering variable. After choosing pivot, we have to choose the leaving variable. We check the particular column of the pivot. Then, we use the corresponding constraint value divided by the matched value for each constraint in the pivot column, and compare the results. We choose the smallest value as a leaving variable.\n",
    "\n",
    "Then we can perform pivot transformation to generate a new tableau to check the optimality."
   ]
  },
  {
   "cell_type": "code",
   "execution_count": 5,
   "id": "2d2f6e08-a753-46a7-82cb-7c5cb13b064e",
   "metadata": {},
   "outputs": [],
   "source": [
    "def pivot(T,k,l):\n",
    "    E = np.eye(T.shape[0])\n",
    "    E[:,l] = -T[:,k]/T[l,k]\n",
    "    E[l,l] = 1/T[l,k]\n",
    "    return E@T\n",
    "T1 = pivot(T,2,0)"
   ]
  },
  {
   "cell_type": "markdown",
   "id": "7952b634-2e7e-4801-a53f-1f7b344b8c26",
   "metadata": {},
   "source": [
    "Here is a function for pivot-shifting. It takes the tableau T we created above, a value k and a value $l$. In mathematics, k is called entering variable and $l$  is called leaving variable.\n",
    "\n",
    "The value k is the corresponding column of our chosen pivot. In this case, we would like to choose $x_3$ to be the pivot and its corresponding column is when k=2. \n",
    "\n",
    "Continue on analyzing the last row of this matrix. The largest number among all x variables is 1 among (-2,-1,1,0,0), thus we choose it as a pivot. After choosing it, we look at the its column(column 3). Now we compare $4 \\div 4 = 1$ and $5 \\div 1 = 5$. We pick the smaller value as the leaving varialbe for changing the pivots. Then the leaving variable here should be the first row, where $l$=0."
   ]
  },
  {
   "cell_type": "markdown",
   "id": "cfed824f-d67a-43c5-9210-968ce779e73b",
   "metadata": {},
   "source": [
    "#### Generate New Tableau and Check Optimality"
   ]
  },
  {
   "cell_type": "code",
   "execution_count": 6,
   "id": "801a8e25-4014-49c3-94b9-9574d862a4ee",
   "metadata": {},
   "outputs": [
    {
     "name": "stdout",
     "output_type": "stream",
     "text": [
      "[[ 0.25  0.    1.    0.25  0.    1.  ]\n",
      " [-1.25  1.    0.   -0.25  1.    4.  ]\n",
      " [-2.25 -1.    0.   -0.25  0.   -1.  ]]\n"
     ]
    }
   ],
   "source": [
    "print(T1)"
   ]
  },
  {
   "cell_type": "markdown",
   "id": "441f30db-a41a-4f9b-a037-271a8ddf79d4",
   "metadata": {},
   "source": [
    "Here is a new tableau and we are going to check its optimality. We see all the numbers in the last row is less or equal to zero, which means all the coefficients of decision variables are non-negative. Since the pivot definiton results negative values if we maximize the objective function, if all values on the last row are non-positive, we have reached an optimal. Therefore, the solution has an optimal value of 1 for this particular problem."
   ]
  },
  {
   "cell_type": "markdown",
   "id": "5c95a8c0-4f73-4391-8ccb-6fed168db955",
   "metadata": {},
   "source": [
    "## Case Study 2 -- Degeneracy\n",
    "\n",
    "### Theory\n",
    "Think of the cases when the basic solution doesn't change. Sometimes we are not able to choose a leaving variable where at least one of the basic variables is zero. When things happen like that, we call it degenerate as no leaving variable will not give any improvement to the objective function value. Degeneracy does not bring actual change in the result but only changes the basic variables in the model (Degeneracy, 2022). Degeneracy would occur in some real-life applications but it usually have little harm to the solving the problem.\n",
    "\n",
    "\n",
    "### Degeneracy Example\n",
    "Now consider an example of degeneracy. \n",
    "\n",
    "\n",
    "$$\n",
    "\\begin{array}{rl}\n",
    "\\text{maximize:} & x_1 +2x_2 \\\\ \n",
    "\\text{subject to:} & x_1 +x_2 \\leq 3 \\\\\n",
    "& x_2 \\leq 2 \\\\\n",
    "& 1/2x_1 + x_2 \\leq 2.5 \\\\\n",
    "& x_1, x_2 \\geq 0\n",
    "\\end{array}\n",
    "$$\n"
   ]
  },
  {
   "cell_type": "markdown",
   "id": "068230a2-857e-4121-a54e-4e4a3f1931fe",
   "metadata": {},
   "source": [
    "Rewrite the linear problem into matrix form:\n",
    "\n",
    "$$\n",
    "\\mathbf{A} = \\begin{bmatrix} 1 & 1 \\\\ 0 & 1 \\\\ 1/2 & 1 \\end{bmatrix}\n",
    "\\hspace{1in}\n",
    "\\mathbf{b} = \\begin{bmatrix} 3 \\\\ 2 \\\\ 2.5 \\end{bmatrix}\n",
    "\\hspace{1in}\n",
    "\\mathbf{c} = \\begin{bmatrix} 1 \\\\ 2 \\end{bmatrix}\n",
    "$$"
   ]
  },
  {
   "cell_type": "markdown",
   "id": "f49278c0-ae02-46c1-b4cc-82dec0a44615",
   "metadata": {},
   "source": [
    "#### Create Tableau and Introduce Slack Variables"
   ]
  },
  {
   "cell_type": "code",
   "execution_count": 49,
   "id": "6b120e37-7330-4af7-8694-6958f86d202f",
   "metadata": {},
   "outputs": [
    {
     "name": "stdout",
     "output_type": "stream",
     "text": [
      "[[1.  1.  1.  0.  0.  3. ]\n",
      " [0.  1.  0.  1.  0.  2. ]\n",
      " [0.5 1.  0.  0.  1.  2.5]\n",
      " [1.  2.  0.  0.  0.  0. ]]\n"
     ]
    }
   ],
   "source": [
    "A = np.array([[1.,1.],[0.,1.],[1/2,1.]])\n",
    "m,n = A.shape\n",
    "I = np.eye(m)\n",
    "c = np.array([1.,2.])\n",
    "b = np.array([3.,2.,2.5])\n",
    "T = np.vstack([np.hstack([A,I,b.reshape((m,1))]) , np.hstack([c,np.zeros(m+1)]) ])\n",
    "print(T)"
   ]
  },
  {
   "cell_type": "markdown",
   "id": "15ac43a3-0ae4-4a23-abe6-2eddae747f24",
   "metadata": {},
   "source": [
    "#### Perform Pivoting\n",
    "Then we perform some pivot-shifting and see if degeneracy occurs in the following tableaus."
   ]
  },
  {
   "cell_type": "code",
   "execution_count": 50,
   "id": "bfca98db-1168-43ba-9e01-4ca174df2902",
   "metadata": {},
   "outputs": [
    {
     "name": "stdout",
     "output_type": "stream",
     "text": [
      "[[ 1.   0.   1.  -1.   0.   1. ]\n",
      " [ 0.   1.   0.   1.   0.   2. ]\n",
      " [ 0.5  0.   0.  -1.   1.   0.5]\n",
      " [ 1.   0.   0.  -2.   0.  -4. ]]\n"
     ]
    }
   ],
   "source": [
    "T1 = pivot(T,1,1)\n",
    "print(T1)"
   ]
  },
  {
   "cell_type": "markdown",
   "id": "9c65d537-0877-4428-9f2d-b3ddf5a4062e",
   "metadata": {},
   "source": [
    "Then if we continue to apply the pivoting rules for standard simplex method, then the entering variable is k=0. However, if we look at the columns and decide to choose a leaving variable, we notice that $1\\div{1}$ and $0.5\\div{0.5}$ output the same result. This case is called degeneracy because we have more than one possible leaving variables."
   ]
  },
  {
   "cell_type": "code",
   "execution_count": 51,
   "id": "8d76cd76-4ff1-49aa-935c-cd848e48b4a5",
   "metadata": {},
   "outputs": [
    {
     "name": "stdout",
     "output_type": "stream",
     "text": [
      "[[ 1.   0.   1.  -1.   0.   1. ]\n",
      " [ 0.   1.   0.   1.   0.   2. ]\n",
      " [ 0.   0.  -0.5 -0.5  1.   0. ]\n",
      " [ 0.   0.  -1.  -1.   0.  -5. ]]\n"
     ]
    }
   ],
   "source": [
    "T2 = pivot(T1,0,0)\n",
    "print(T2)"
   ]
  },
  {
   "cell_type": "code",
   "execution_count": 52,
   "id": "5e46df23-1b8b-4f0e-a6bf-425848ab6766",
   "metadata": {},
   "outputs": [
    {
     "name": "stdout",
     "output_type": "stream",
     "text": [
      "[[ 0.  0.  1.  1. -2.  0.]\n",
      " [ 0.  1.  0.  1.  0.  2.]\n",
      " [ 1.  0.  0. -2.  2.  1.]\n",
      " [ 0.  0.  0.  0. -2. -5.]]\n"
     ]
    }
   ],
   "source": [
    "T3 = pivot(T1,0,2)\n",
    "print(T3)"
   ]
  },
  {
   "cell_type": "markdown",
   "id": "26fb4ad7-51df-497c-803b-1e1959fdd0ab",
   "metadata": {},
   "source": [
    "If we compare T2 and T3 tableaus, we can see that the values of the objective function are exactly the same. Because we have ties in choosing leaving variable. Since we do not have any improvements for the optimal, such action cannot make any progresses to optimality. \n",
    "\n",
    "The worse case of degeneracy is when the same set of basic variables occurs twice. In this case, the pivoting method in the simplex algorithm will produce an infinite loop called \"cycle\" (Camarena)."
   ]
  },
  {
   "cell_type": "markdown",
   "id": "49077544-86ef-405d-aeb8-fb704f1c6a75",
   "metadata": {},
   "source": [
    "### Bland's Rule -- Prevent Degeneracy\n",
    "\n",
    "We introduce bland's rule to prevent degeneracy if we have situations like above. Bland's rule chooses the row with the lowest numbered variables in the basis. It means that:\n",
    "\n",
    "\n",
    "1. When choosing an entering variable, we should choose the the first one in the ordering that has a positive entry in the objective row."
   ]
  },
  {
   "cell_type": "code",
   "execution_count": 54,
   "id": "e5221850-79d5-4079-a921-0f5c997ccd43",
   "metadata": {},
   "outputs": [
    {
     "name": "stdout",
     "output_type": "stream",
     "text": [
      "[[1.  1.  1.  0.  0.  3. ]\n",
      " [0.  1.  0.  1.  0.  2. ]\n",
      " [0.5 1.  0.  0.  1.  2.5]\n",
      " [1.  2.  0.  0.  0.  0. ]]\n"
     ]
    }
   ],
   "source": [
    "print(T)"
   ]
  },
  {
   "cell_type": "markdown",
   "id": "a99518a0-a0ed-438e-8d0e-4f318d291c59",
   "metadata": {},
   "source": [
    "In the case above, we choose $x_1$ because the the entry is 1. There is no tie in leaving varaible, so we proceed."
   ]
  },
  {
   "cell_type": "code",
   "execution_count": 57,
   "id": "5acf5335-6dbc-4b05-ac85-13acd151bac5",
   "metadata": {},
   "outputs": [],
   "source": [
    "T1 = pivot(T,1,1)"
   ]
  },
  {
   "cell_type": "markdown",
   "id": "83d258c6-d42f-44d6-b818-7f18b44c6311",
   "metadata": {},
   "source": [
    "2. When choosing a leaving variable and there is a tie for the least ratio, take the first one in the ordering."
   ]
  },
  {
   "cell_type": "code",
   "execution_count": 58,
   "id": "f6040904-d6fc-4a37-9396-66e70bcddad0",
   "metadata": {},
   "outputs": [
    {
     "name": "stdout",
     "output_type": "stream",
     "text": [
      "[[ 1.   0.   1.  -1.   0.   1. ]\n",
      " [ 0.   1.   0.   1.   0.   2. ]\n",
      " [ 0.5  0.   0.  -1.   1.   0.5]\n",
      " [ 1.   0.   0.  -2.   0.  -4. ]]\n"
     ]
    }
   ],
   "source": [
    "print(T1)"
   ]
  },
  {
   "cell_type": "markdown",
   "id": "0c6f19c1-d5ff-4483-b81a-4f9b99c72f4e",
   "metadata": {},
   "source": [
    "In the case above, we still the first column as entering varialbe according to Bland's rule, but there is a tie in ratio for the column. The values are correspond to slack variables $s_3$ and $s_5$. Convert s to x to match the notation for all decison variables then we have $x_3$ and $x_5$. Bland's rule suggests to choose the first one in the ordering for tied least ratio. In this case, we choose $x_3$, and proceed pivoting."
   ]
  },
  {
   "cell_type": "code",
   "execution_count": 59,
   "id": "773d7531-3cf0-41e4-ac7e-be2fc88137a4",
   "metadata": {},
   "outputs": [
    {
     "name": "stdout",
     "output_type": "stream",
     "text": [
      "[[ 1.   0.   1.  -1.   0.   1. ]\n",
      " [ 0.   1.   0.   1.   0.   2. ]\n",
      " [ 0.   0.  -0.5 -0.5  1.   0. ]\n",
      " [ 0.   0.  -1.  -1.   0.  -5. ]]\n"
     ]
    }
   ],
   "source": [
    "T2 = pivot(T1,0,0)\n",
    "print(T2)"
   ]
  },
  {
   "cell_type": "markdown",
   "id": "2d135101-78b7-4655-b00e-9241a8215e84",
   "metadata": {},
   "source": [
    "Now this tableau reaches optimality and we call it end. Thus, the optimal solutions equals to 5.\n",
    "\n",
    "Bland's rule can help the occurance of degeneracy and prevent looping, which is a very useful rule."
   ]
  },
  {
   "cell_type": "markdown",
   "id": "11184ef5-e7e5-4d3d-9929-6002963d2c47",
   "metadata": {},
   "source": [
    "## Conclusion\n",
    "\n",
    "The purpose of using matrix form to solve could save lots of time when we increase number of constraints and variables. In reality, some of the problems are much more complicated than that and might require multiple pivot-shiftings. The method produces an optimal solution to satisfy the given constraints and produce a maximum objective when all the coefficients on the decision variables are non-negative. To use the simplex method, the model should be linearr and in standard form, where we introduce slack variables then. To proceed, we use the tableau and pivot to check optimality until an optimal solution is reached.\n",
    "\n",
    "Sometimes special case like degeneracy will happen to affect the results and we can apply bland's rule to prevent it. Degeneracy will waste time for calculation or it will become a cycle in worse cases. In general, it is not efficient for the simplex method model but might be occur in various real-world cases. Now we have a method to deal with the degeneracy, which makes simplex method a very strong linear programming algorithm."
   ]
  },
  {
   "cell_type": "markdown",
   "id": "7c167619-d74f-4272-baf2-424c9d83783c",
   "metadata": {},
   "source": [
    "## References\n",
    "\n",
    "Camarena, O. A. (n.d.). Bland’s Rule guarantees termination. Bland's rule guarantees termination. Retrieved December 8, 2022, from https://www.matem.unam.mx/~omar/math340/blands-rule.html \n",
    "\n",
    "Wikimedia Foundation. (2022, November 19). Simplex algorithm. Wikipedia. Retrieved December 8, 2022, from https://en.wikipedia.org/wiki/Simplex_algorithm\n",
    "\n",
    "\n",
    "Wikimedia Foundation. (2022, November 29). Degeneracy. Wikipedia. Retrieved December 8, 2022, from https://en.wikipedia.org/wiki/Degeneracy\n"
   ]
  }
 ],
 "metadata": {
  "kernelspec": {
   "display_name": "Python 3 (ipykernel)",
   "language": "python",
   "name": "python3"
  },
  "language_info": {
   "codemirror_mode": {
    "name": "ipython",
    "version": 3
   },
   "file_extension": ".py",
   "mimetype": "text/x-python",
   "name": "python",
   "nbconvert_exporter": "python",
   "pygments_lexer": "ipython3",
   "version": "3.10.6"
  }
 },
 "nbformat": 4,
 "nbformat_minor": 5
}
